{
 "cells": [
  {
   "cell_type": "markdown",
   "metadata": {},
   "source": [
    "### 练习1 --tensorboard：\n",
    "以多项式回归的例子进行实验，增加模型保存以及可视化计算图的部分（10分钟）"
   ]
  },
  {
   "cell_type": "code",
   "execution_count": null,
   "metadata": {},
   "outputs": [],
   "source": []
  },
  {
   "cell_type": "markdown",
   "metadata": {},
   "source": [
    "### 练习2(10分钟)：\n",
    "### one-hot embedding\n",
    "将标签映射到对应向量， 7 -> [ 0.,  0.,  0.,  0.,  0.,  0.,  0.,  1.,  0.,  0.]\n",
    "\n",
    "写一个函数将输入的标签变成one-hot embedding"
   ]
  },
  {
   "cell_type": "code",
   "execution_count": 1,
   "metadata": {},
   "outputs": [],
   "source": [
    "def to_one_hot(labels):\n",
    "    \"\"\"将输入的标签数据进行one-hot embedding\n",
    "    Args:\n",
    "        labels: 输入标签\n",
    "    Returns:\n",
    "        res: one-hot embedding 后的结果，每一行对应一个标签\n",
    "    \"\"\""
   ]
  },
  {
   "cell_type": "markdown",
   "metadata": {},
   "source": [
    "### 练习3（2分钟）：\n",
    "将pics的值变为0-1之间的一个浮点数"
   ]
  },
  {
   "cell_type": "code",
   "execution_count": null,
   "metadata": {},
   "outputs": [],
   "source": []
  },
  {
   "cell_type": "markdown",
   "metadata": {},
   "source": [
    "### 练习4（15分钟）：\n",
    "编写一个生成器，根据输入的batch-size，生成对应的mini batch"
   ]
  },
  {
   "cell_type": "code",
   "execution_count": 2,
   "metadata": {},
   "outputs": [],
   "source": [
    "def gen_batch(labels, pics, batch_size):\n",
    "    \"\"\"\n",
    "    输入图片与标签数据，根据设置的batch_size生成mini-batch\n",
    "    Args:\n",
    "        labels: 标签数据，one-hot格式\n",
    "        pics: 图片数据\n",
    "        batch_size: 设置的batch大小\n",
    "    Yields:\n",
    "        生成的mini-batch\n",
    "    \"\"\"\n",
    "\n"
   ]
  },
  {
   "cell_type": "markdown",
   "metadata": {},
   "source": [
    "### 练习5--逻辑回归(练习)\n",
    "---\n",
    "这一部分将会利用逻辑回归对MNIST数据集中的图片数据是否为0进行分类。"
   ]
  },
  {
   "cell_type": "markdown",
   "metadata": {},
   "source": [
    "### 数据预处理\n",
    "首先对数据进行预处理，读入图片，将2维的图片数据（28， 28）转化为向量（784, ）, 并且生成标签，0 对应标签为 1， 其余图片对应标签为 0."
   ]
  },
  {
   "cell_type": "code",
   "execution_count": 5,
   "metadata": {},
   "outputs": [],
   "source": [
    "import tensorflow as tf\n",
    "import os\n",
    "import numpy as np\n",
    "import matplotlib.image as mpimg # mpimg 用于读取图片\n",
    "\n",
    "data_path = './data'\n",
    "\n",
    "# 图片的路径，1中包括了数字1-9，0中全部为0\n",
    "path_1 = os.listdir(os.path.join(data_path, '1'))\n",
    "\n",
    "\n",
    "np.random.shuffle(path_1)\n",
    "path_1 = list(map(lambda x: os.path.join(data_path, '1', x), path_1))\n",
    "path_0 = os.listdir(os.path.join(data_path, '0'))\n",
    "path_0 = list(map(lambda x: os.path.join(data_path, '0', x), path_0))\n",
    "\n",
    "\n",
    "def parse_image(image_path):\n",
    "    \"\"\"对所给的图像进行处理，变成一维向量, 并且归一化\n",
    "    Args:\n",
    "        image_path: 图像的路径\n",
    "    Returns：\n",
    "        img: 处理好的图像\n",
    "    \"\"\"\n",
    "    t = mpimg.imread(image_path)\n",
    "    return np.reshape(t, (28 * 28)) / 255.\n",
    "\n",
    "\n",
    "def get_label(paths, labels):\n",
    "    \"\"\"根据给的路径对图像进行处理，打上标签\n",
    "    Args:\n",
    "        paths: 图片路径\n",
    "        labels: 图片标签\n",
    "    Returns:\n",
    "        x: 处理好的图片\n",
    "        y: 对应长度的标签\n",
    "    \"\"\"\n",
    "    x = list(map(parse_image, paths))\n",
    "    if labels == 1:\n",
    "        y = np.ones(shape=(len(paths), 1), dtype=np.float32)\n",
    "    else:\n",
    "        y = np.zeros(shape=(len(paths), 1), dtype=np.float32)\n",
    "    return x, y\n",
    "\n",
    "\n",
    "data_0 = get_label(path_0, 1)\n",
    "data_1 = get_label(path_1, 0)"
   ]
  },
  {
   "cell_type": "markdown",
   "metadata": {},
   "source": [
    "### 练习：\n",
    "将数据集分割为两部分，一部分用于训练，另一部分用于验证模型。"
   ]
  },
  {
   "cell_type": "code",
   "execution_count": null,
   "metadata": {},
   "outputs": [],
   "source": []
  },
  {
   "cell_type": "markdown",
   "metadata": {},
   "source": [
    "### 练习：\n",
    "定义产生batch的生成器"
   ]
  },
  {
   "cell_type": "code",
   "execution_count": null,
   "metadata": {},
   "outputs": [],
   "source": []
  },
  {
   "cell_type": "markdown",
   "metadata": {},
   "source": [
    "### 定义计算图\n",
    "在这一步中，我们主要完成了以下几点：\n",
    "* 定义 placeholder 用于后面输入数据\n",
    "* 定义权重变量 W\n",
    "* 定义损失函数\n",
    "* 定义优化算法，这里使用的时梯度下降\n",
    "* 计算错误率"
   ]
  },
  {
   "cell_type": "code",
   "execution_count": null,
   "metadata": {},
   "outputs": [],
   "source": []
  },
  {
   "cell_type": "markdown",
   "metadata": {},
   "source": [
    "### 练习：\n",
    "### 定义进程并进行运算\n",
    "这一步将准备好的数据输入给运算图，对模型中的变量赋予了初值，进行计算和优化，总共对模型进行了500次训练，并且训练完成以后利用测试数据集对模型进行了评估。"
   ]
  },
  {
   "cell_type": "code",
   "execution_count": null,
   "metadata": {},
   "outputs": [],
   "source": []
  },
  {
   "cell_type": "markdown",
   "metadata": {},
   "source": [
    "## 练习6-- Softmax 建模作为练习（20分钟）"
   ]
  },
  {
   "cell_type": "code",
   "execution_count": null,
   "metadata": {},
   "outputs": [],
   "source": [
    "import numpy as np\n",
    "import tensorflow as tf\n",
    "from tensorflow.examples.tutorials.mnist import input_data\n",
    "mnist = input_data.read_data_sets('./MNIST_data', one_hot=True)"
   ]
  },
  {
   "cell_type": "code",
   "execution_count": null,
   "metadata": {},
   "outputs": [],
   "source": []
  },
  {
   "cell_type": "markdown",
   "metadata": {},
   "source": [
    "# 拓展练习"
   ]
  },
  {
   "cell_type": "markdown",
   "metadata": {},
   "source": [
    "## 练习7-- 使用逻辑回归 实现数字0-9的分类(20分钟）"
   ]
  },
  {
   "cell_type": "code",
   "execution_count": null,
   "metadata": {},
   "outputs": [],
   "source": []
  },
  {
   "cell_type": "markdown",
   "metadata": {},
   "source": [
    "## 练习8--使用softmax对数字0，1进行分类"
   ]
  },
  {
   "cell_type": "markdown",
   "metadata": {},
   "source": []
  },
  {
   "cell_type": "code",
   "execution_count": null,
   "metadata": {},
   "outputs": [],
   "source": []
  },
  {
   "cell_type": "code",
   "execution_count": null,
   "metadata": {},
   "outputs": [],
   "source": []
  }
 ],
 "metadata": {
  "kernelspec": {
   "display_name": "Python 3",
   "language": "python",
   "name": "python3"
  },
  "language_info": {
   "codemirror_mode": {
    "name": "ipython",
    "version": 3
   },
   "file_extension": ".py",
   "mimetype": "text/x-python",
   "name": "python",
   "nbconvert_exporter": "python",
   "pygments_lexer": "ipython3",
   "version": "3.6.4"
  }
 },
 "nbformat": 4,
 "nbformat_minor": 2
}
