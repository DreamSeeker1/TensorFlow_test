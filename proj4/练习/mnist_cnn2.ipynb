{
 "cells": [
  {
   "cell_type": "markdown",
   "metadata": {},
   "source": [
    "# 加载数据"
   ]
  },
  {
   "cell_type": "code",
   "execution_count": 1,
   "metadata": {},
   "outputs": [
    {
     "name": "stdout",
     "output_type": "stream",
     "text": [
      "Extracting C:/Users/admin/mnist/train-images-idx3-ubyte.gz\n",
      "Extracting C:/Users/admin/mnist/train-labels-idx1-ubyte.gz\n",
      "Extracting C:/Users/admin/mnist/t10k-images-idx3-ubyte.gz\n",
      "Extracting C:/Users/admin/mnist/t10k-labels-idx1-ubyte.gz\n"
     ]
    }
   ],
   "source": [
    "import tensorflow as tf\n",
    "from tensorflow.examples.tutorials.mnist import input_data\n",
    "mnist = input_data.read_data_sets('C:/Users/admin/mnist/', one_hot=True)"
   ]
  },
  {
   "cell_type": "markdown",
   "metadata": {},
   "source": [
    "# 占位符"
   ]
  },
  {
   "cell_type": "code",
   "execution_count": 11,
   "metadata": {
    "collapsed": true
   },
   "outputs": [],
   "source": [
    "x = tf.placeholder(tf.float32, shape=[None, 784])\n",
    "y_ = tf.placeholder(tf.float32, shape=[None, 10])\n",
    "x_image = tf.reshape(x, [-1,28,28,1])#把图片reshape成28*28\n",
    "keep_prob = tf.placeholder(tf.float32)"
   ]
  },
  {
   "cell_type": "markdown",
   "metadata": {},
   "source": [
    "# 构建网络"
   ]
  },
  {
   "cell_type": "code",
   "execution_count": 13,
   "metadata": {},
   "outputs": [],
   "source": [
    "#卷积层\n",
    "conv1=tf.layers.conv2d(inputs=x_image,  filters=32,  kernel_size=[5, 5], padding=\"same\", activation=tf.nn.relu,\n",
    "      kernel_initializer=tf.truncated_normal_initializer(stddev=0.01))\n",
    "#池化层\n",
    "pool1=tf.layers.max_pooling2d(inputs=conv1, pool_size=[2, 2], strides=2)\n",
    "#经过池化层“剪裁”28*28已经变成14*14\n",
    "conv2=tf.layers.conv2d(inputs=pool1,  filters=64,  kernel_size=[5, 5], padding=\"same\", activation=tf.nn.relu,\n",
    "      kernel_initializer=tf.truncated_normal_initializer(stddev=0.01))\n",
    "pool2=tf.layers.max_pooling2d(inputs=conv2, pool_size=[2, 2], strides=2)\n",
    "#14*14 --7*7\n",
    "re1 = tf.reshape(pool2, [-1, 7 * 7 * 64])\n",
    "dense1 = tf.layers.dense(inputs=re1,      units=64,   activation=tf.nn.relu,\n",
    "                      kernel_initializer=tf.truncated_normal_initializer(stddev=0.01),\n",
    "                      kernel_regularizer=tf.contrib.layers.l2_regularizer(0.003))\n",
    "dense1_drop = tf.nn.dropout(dense1, keep_prob)\n",
    "logits= tf.layers.dense(inputs=dense1_drop,  units=10,   activation=None,\n",
    "                        kernel_initializer=tf.truncated_normal_initializer(stddev=0.01),\n",
    "                        kernel_regularizer=tf.contrib.layers.l2_regularizer(0.003))"
   ]
  },
  {
   "cell_type": "markdown",
   "metadata": {},
   "source": [
    "# 定义loss，以及优化方法还有准确率"
   ]
  },
  {
   "cell_type": "code",
   "execution_count": 14,
   "metadata": {
    "collapsed": true
   },
   "outputs": [],
   "source": [
    "loss = tf.reduce_mean(tf.nn.softmax_cross_entropy_with_logits(labels=y_, logits=logits))\n",
    "train_step = tf.train.GradientDescentOptimizer(0.5).minimize(loss)\n",
    "softmax_result = tf.nn.softmax(logits)\n",
    "pred = tf.argmax(softmax_result, axis=1)\n",
    "true = tf.argmax(y_, axis=1)\n",
    "accuracy = tf.reduce_mean(tf.cast(tf.equal(pred, true), tf.float32))"
   ]
  },
  {
   "cell_type": "markdown",
   "metadata": {},
   "source": [
    "# 网络初始化"
   ]
  },
  {
   "cell_type": "code",
   "execution_count": 15,
   "metadata": {
    "collapsed": true
   },
   "outputs": [],
   "source": [
    "sess = tf.InteractiveSession()\n",
    "init = tf.global_variables_initializer()\n",
    "sess.run(init)"
   ]
  },
  {
   "cell_type": "markdown",
   "metadata": {},
   "source": [
    "# 训练"
   ]
  },
  {
   "cell_type": "code",
   "execution_count": 19,
   "metadata": {},
   "outputs": [
    {
     "name": "stdout",
     "output_type": "stream",
     "text": [
      "Step:    0, Loss: 0.0612, Accuracy:100.00%\n",
      "Step:  100, Loss: 0.1981, Accuracy: 94.00%\n",
      "Step:  200, Loss: 0.1268, Accuracy: 94.00%\n",
      "Step:  300, Loss: 0.0946, Accuracy: 94.00%\n",
      "Step:  400, Loss: 0.2122, Accuracy: 96.00%\n",
      "Step:  500, Loss: 0.1571, Accuracy: 98.00%\n",
      "Step:  600, Loss: 0.0903, Accuracy: 96.00%\n",
      "Step:  700, Loss: 0.0638, Accuracy: 98.00%\n",
      "Step:  800, Loss: 0.1046, Accuracy: 92.00%\n",
      "Step:  900, Loss: 0.1035, Accuracy: 96.00%\n",
      "Training Finished, Loss: 0.0804, Accuracy: 97.72%\n"
     ]
    }
   ],
   "source": [
    "for i in range(1000):\n",
    "    batch = mnist.train.next_batch(50)\n",
    "    _, loss_, acu = sess.run([train_step, loss, accuracy], {x: batch[0], y_: batch[1], keep_prob:0.5})\n",
    "    if i % 100 == 0:\n",
    "        print(\"Step:{:>5}, Loss:{:>7.4f}, Accuracy:{:>7.2%}\".format(i, loss_, acu))\n",
    "loss_, acu = sess.run([loss, accuracy], {x: mnist.test.images, \n",
    "                                        y_: mnist.test.labels, keep_prob:1.0})\n",
    "print(\"Training Finished, Loss:{:>7.4f}, Accuracy:{:>7.2%}\".format(loss_, acu))"
   ]
  },
  {
   "cell_type": "code",
   "execution_count": null,
   "metadata": {
    "collapsed": true
   },
   "outputs": [],
   "source": []
  }
 ],
 "metadata": {
  "kernelspec": {
   "display_name": "Python 3",
   "language": "python",
   "name": "python3"
  },
  "language_info": {
   "codemirror_mode": {
    "name": "ipython",
    "version": 3
   },
   "file_extension": ".py",
   "mimetype": "text/x-python",
   "name": "python",
   "nbconvert_exporter": "python",
   "pygments_lexer": "ipython3",
   "version": "3.6.4"
  }
 },
 "nbformat": 4,
 "nbformat_minor": 2
}
