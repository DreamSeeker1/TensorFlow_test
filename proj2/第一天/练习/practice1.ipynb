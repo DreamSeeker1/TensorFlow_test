{
 "cells": [
  {
   "cell_type": "markdown",
   "metadata": {},
   "source": [
    "## 练习1--贝叶斯概率"
   ]
  },
  {
   "cell_type": "markdown",
   "metadata": {},
   "source": [
    "某城市夏利牌出租车占85%，富康车占15%。这两种车都是红色，富康车略大一些，每辆车肇事的概率相同。在一次出租车的交通肇事逃逸案件中，有证人指证富康车肇事。为了确定是否富康车肇事，在肇事地点和相似的能见度下警方对证人辨别出租车的能力进行了测验，发现证人正确识别富康车的概率为90%，识别夏利车的概率为80%，如果证人没有说谎，求富康车肇事的概率。\n",
    "解：设事件A表示证人看到富康车肇事，事件B表示富康车肇事。\n"
   ]
  },
  {
   "cell_type": "code",
   "execution_count": null,
   "metadata": {},
   "outputs": [],
   "source": []
  },
  {
   "cell_type": "markdown",
   "metadata": {},
   "source": [
    "[Numpy 简要教程](https://docs.scipy.org/doc/numpy-dev/user/quickstart.html)"
   ]
  },
  {
   "cell_type": "markdown",
   "metadata": {},
   "source": [
    "## 练习2--numpy\n",
    "已知 \n",
    "$$\n",
    "\\begin{equation}\n",
    "W = \n",
    "  \\left(\n",
    "  \\begin{array}{ccc}\n",
    "   0 & 1 & 4 \\\\\n",
    "    9 & 16 & 25 \\\\ \n",
    "    36 & 49 & 64 \\\\\n",
    "  \\end{array}\n",
    "  \\right)\n",
    "\\end{equation}\n",
    "$$\n",
    "求 $W$ 行列式的值，秩和特征向量，以及$W^{-1}$\n",
    "\n",
    "需要导入的库：\n",
    "numpy.linalg"
   ]
  },
  {
   "cell_type": "code",
   "execution_count": null,
   "metadata": {
    "collapsed": true
   },
   "outputs": [],
   "source": []
  },
  {
   "cell_type": "markdown",
   "metadata": {},
   "source": [
    "[matplotlib简要教程](https://matplotlib.org/tutorials/index.html)\n",
    "\n",
    "\n",
    "[pyplot 用法](https://matplotlib.org/api/_as_gen/matplotlib.pyplot.plot.html)"
   ]
  },
  {
   "cell_type": "markdown",
   "metadata": {},
   "source": [
    "## 练习3--plot\n",
    "绘制以下图形:\n",
    "\n",
    "* $f(x) = 1.5 + 0.3 * x^2 + sin(x), x \\in [-\\pi, \\pi]$\n",
    "\n",
    "* $\n",
    "\\begin{eqnarray}f(x)=\n",
    "\\begin{cases}\n",
    "0, &x<0\\cr \n",
    "x, &x\\ge0\n",
    "\\end{cases}\n",
    "\\end{eqnarray}\n",
    "$\n",
    "\n",
    "\n",
    "* $f(x) = \\frac{e^x - e^{-x}}{e^x + e^{-x}}$\n"
   ]
  },
  {
   "cell_type": "code",
   "execution_count": null,
   "metadata": {
    "collapsed": true
   },
   "outputs": [],
   "source": []
  },
  {
   "cell_type": "markdown",
   "metadata": {},
   "source": [
    "## 练习4--链式法则"
   ]
  },
  {
   "cell_type": "markdown",
   "metadata": {},
   "source": [
    "$u=z sin\\frac{y}{x}$ , $x=3 s^2+2 t$, $y=4 s-2t^3$, $z=2 s^2-3 t^2$,\n",
    "求$\\frac{\\partial u}{\\partial s}$,$\\frac{\\partial u}{\\partial t}$ "
   ]
  },
  {
   "cell_type": "code",
   "execution_count": null,
   "metadata": {},
   "outputs": [],
   "source": []
  },
  {
   "cell_type": "markdown",
   "metadata": {},
   "source": [
    "## 练习 5--计算图\n",
    "\n",
    "建立一个计算图，计算$(a + b) + (a \\times b)$"
   ]
  },
  {
   "cell_type": "code",
   "execution_count": null,
   "metadata": {},
   "outputs": [],
   "source": []
  },
  {
   "cell_type": "code",
   "execution_count": null,
   "metadata": {},
   "outputs": [],
   "source": []
  },
  {
   "cell_type": "markdown",
   "metadata": {},
   "source": [
    "## 练习 6--graph\n",
    "将下面的例子（linear_model）部分改写为一般结构。即定义计算图、运行计算图\n",
    "例子如下："
   ]
  },
  {
   "cell_type": "code",
   "execution_count": 5,
   "metadata": {},
   "outputs": [
    {
     "name": "stdout",
     "output_type": "stream",
     "text": [
      "[array([-0.97959626], dtype=float32), array([0.94001067], dtype=float32)]\n"
     ]
    }
   ],
   "source": [
    "import tensorflow as tf\n",
    "import numpy as np\n",
    "x = tf.placeholder(tf.float32)\n",
    "y = tf.placeholder(tf.float32)\n",
    "#定义变量\n",
    "W = tf.Variable([0.3], dtype=tf.float32)\n",
    "b = tf.Variable([0.1], dtype=tf.float32)\n",
    "#变量初始化\n",
    "sess = tf.Session()\n",
    "init = tf.global_variables_initializer()\n",
    "sess.run(init)\n",
    "pred = W * x + b\n",
    "#定义loss\n",
    "loss = tf.reduce_mean(tf.square(y - pred))\n",
    "train = tf.train.GradientDescentOptimizer(0.01).minimize(loss)\n",
    "\n",
    "for i in range(1000):\n",
    "    sess.run(train, {x: [1, 2, 3, 4], y: [0, -1, -2, -3]})\n",
    "print(sess.run([W, b]))"
   ]
  },
  {
   "cell_type": "code",
   "execution_count": null,
   "metadata": {},
   "outputs": [],
   "source": []
  },
  {
   "cell_type": "markdown",
   "metadata": {},
   "source": [
    "## 练习 7--graph\n",
    "\n",
    "绘制以下图像：\n",
    "* $f(x) = 1.5 + 0.3 * x^2 + sin(x), x \\in [-\\pi, \\pi]$\n",
    "\n",
    "* $\n",
    "\\begin{eqnarray}f(x)=\n",
    "\\begin{cases}\n",
    "0, &x<0\\cr \n",
    "x, &x\\ge0\n",
    "\\end{cases}\n",
    "\\end{eqnarray}\n",
    "$\n",
    "\n",
    "\n",
    "* $f(x) = \\frac{e^x - e^{-x}}{e^x + e^{-x}}$\n",
    "\n",
    "* $f(x) = \\frac{1}{1 + e^{-x}}$\n",
    "\n"
   ]
  },
  {
   "cell_type": "code",
   "execution_count": null,
   "metadata": {},
   "outputs": [],
   "source": []
  },
  {
   "cell_type": "markdown",
   "metadata": {},
   "source": [
    "## 练习8\n",
    "计算 $f(x) = 1.5 + 0.3 * x^2 + sin(x)$ 的极小值。绘制梯度下降过程中$f(x)$值的变化"
   ]
  },
  {
   "cell_type": "code",
   "execution_count": null,
   "metadata": {},
   "outputs": [],
   "source": [
    "import tensorflow as tf\n",
    "import matplotlib.pyplot as plt\n",
    "import numpy as np\n",
    "%matplotlib inline"
   ]
  },
  {
   "cell_type": "code",
   "execution_count": null,
   "metadata": {},
   "outputs": [],
   "source": []
  },
  {
   "cell_type": "markdown",
   "metadata": {},
   "source": [
    "## 练习9--利用TensorFlow实现多项式回归"
   ]
  },
  {
   "cell_type": "markdown",
   "metadata": {},
   "source": [
    "输入$x$和输出$y$之间的关系是多项式关系，即：\n",
    "$$y = a + bx + cx^2 + dx^3 + ....$$\n",
    "\n",
    "### 练习(30min)：\n",
    "对给定的数据进行拟合，已知x指数最大不超过4，绘制损失函数的曲线，绘制最终预测结果图"
   ]
  },
  {
   "cell_type": "code",
   "execution_count": 2,
   "metadata": {},
   "outputs": [
    {
     "name": "stderr",
     "output_type": "stream",
     "text": [
      "/Users/liuyanfang/anaconda3/envs/tensorflow1.4/lib/python3.6/importlib/_bootstrap.py:219: RuntimeWarning: compiletime version 3.5 of module 'tensorflow.python.framework.fast_tensor_util' does not match runtime version 3.6\n",
      "  return f(*args, **kwds)\n"
     ]
    }
   ],
   "source": [
    "import tensorflow as tf\n",
    "import numpy as np\n",
    "import matplotlib.pyplot as plt\n",
    "%matplotlib inline"
   ]
  },
  {
   "cell_type": "code",
   "execution_count": 3,
   "metadata": {},
   "outputs": [
    {
     "data": {
      "image/png": "[encoded data removed]",
      "text/plain": [
       "<matplotlib.figure.Figure at 0x115faa5c0>"
      ]
     },
     "metadata": {},
     "output_type": "display_data"
    }
   ],
   "source": [
    "#载入数据\n",
    "import pickle\n",
    "with open('./poly.pkl', 'rb') as f:\n",
    "    x, y = pickle.load(f)\n",
    "# 绘制曲线\n",
    "plt.scatter(x, y)\n",
    "plt.show()"
   ]
  },
  {
   "cell_type": "markdown",
   "metadata": {},
   "source": [
    "### 对数据进行预处理\n",
    "\n",
    "* 分为训练集测试集\n",
    "* 定义产生batch生成器"
   ]
  },
  {
   "cell_type": "code",
   "execution_count": 8,
   "metadata": {},
   "outputs": [],
   "source": [
    "whole = np.transpose(np.array([x, y]))\n",
    "training_set = whole[:-64]\n",
    "test_set = whole[-64:]\n",
    "def gen_batch(data):\n",
    "    for i in range(len(data) // 64):\n",
    "        pos = 64 * i\n",
    "        yield data[pos : pos + 64]"
   ]
  },
  {
   "cell_type": "markdown",
   "metadata": {},
   "source": [
    "### 定义计算图"
   ]
  },
  {
   "cell_type": "code",
   "execution_count": null,
   "metadata": {},
   "outputs": [],
   "source": []
  },
  {
   "cell_type": "markdown",
   "metadata": {},
   "source": [
    "### 运行计算图"
   ]
  },
  {
   "cell_type": "code",
   "execution_count": null,
   "metadata": {},
   "outputs": [],
   "source": []
  }
 ],
 "metadata": {
  "kernelspec": {
   "display_name": "Python 3",
   "language": "python",
   "name": "python3"
  },
  "language_info": {
   "codemirror_mode": {
    "name": "ipython",
    "version": 3
   },
   "file_extension": ".py",
   "mimetype": "text/x-python",
   "name": "python",
   "nbconvert_exporter": "python",
   "pygments_lexer": "ipython3",
   "version": "3.6.4"
  }
 },
 "nbformat": 4,
 "nbformat_minor": 2
}
