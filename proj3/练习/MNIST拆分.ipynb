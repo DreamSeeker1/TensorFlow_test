{
 "cells": [
  {
   "cell_type": "markdown",
   "metadata": {},
   "source": [
    "###  将MNIST测试集读取出来并转成图片的形式，保存到test_img 文件夹下，目的更好的了解该数据集，和锻炼Python能力。"
   ]
  },
  {
   "cell_type": "code",
   "execution_count": 15,
   "metadata": {},
   "outputs": [
    {
     "name": "stdout",
     "output_type": "stream",
     "text": [
      "Extracting MNIST_data/train-images-idx3-ubyte.gz\n",
      "Extracting MNIST_data/train-labels-idx1-ubyte.gz\n",
      "Extracting MNIST_data/t10k-images-idx3-ubyte.gz\n",
      "Extracting MNIST_data/t10k-labels-idx1-ubyte.gz\n"
     ]
    }
   ],
   "source": [
    "# -*- coding: utf-8 -*-\n",
    "import tensorflow as tf\n",
    "from tensorflow.examples.tutorials.mnist import input_data\n",
    "import numpy as np\n",
    "\n",
    "from PIL import Image\n",
    "import os\n",
    "\n",
    "# 读数据\n",
    "mnist = input_data.read_data_sets(\"MNIST_data/\", one_hot=True)\n",
    "test_img = mnist.test.images\n",
    "test_label = mnist.test.labels\n",
    "\n",
    "# 数据集中的图片是归一化后的，需要变回0-255之间\n",
    "image = []\n",
    "test_img = test_img * 255\n",
    "\n",
    "# 测试集一共有10000张图片\n",
    "# 数据集需要reshape成28*28的大小\n",
    "for i in range(10000):\n",
    "    x = test_img[i].reshape(28,28)\n",
    "    image.append(x)\n",
    "\n",
    "#print(np.array(image).dtype)\n",
    "# 读取的图片是float32 类型，需转换成整型才可以生成图片\n",
    "datas = np.array(image).astype(np.uint8)\n",
    "label = []\n",
    "for i in range(10000):\n",
    "    y = np.argmax(test_label[i])\n",
    "    label.append(y)\n",
    "labels = np.array(label).astype(np.int8)\n",
    "\n",
    "# 创建保存图片的文件夹\n",
    "datas_root = 'test_img' #需要修改的路径\n",
    "if not os.path.exists(datas_root):\n",
    "    os.mkdir(datas_root)\n",
    "\n",
    "# 创建名称为0-9的文件夹\n",
    "for i in range(10):\n",
    "    file_name = datas_root + os.sep + str(i)\n",
    "    if not os.path.exists(file_name):\n",
    "        os.mkdir(file_name)\n",
    "\n",
    "# 保存图片到相应的文件夹\n",
    "# array()方法是将图片转换成numpy的数组对象，fromarray()是它的反操作。\n",
    "for j in range(10000):\n",
    "    img = Image.fromarray(datas[j, 0:28, 0:28])\n",
    "    label = labels[j]\n",
    "    file_name = datas_root + os.sep + str(label) + os.sep + \\\n",
    "        'mnist_test_' + str(j) + '.png'\n",
    "    img.save(file_name)\n",
    "\n"
   ]
  },
  {
   "cell_type": "code",
   "execution_count": null,
   "metadata": {},
   "outputs": [],
   "source": []
  }
 ],
 "metadata": {
  "kernelspec": {
   "display_name": "Python 3",
   "language": "python",
   "name": "python3"
  },
  "language_info": {
   "codemirror_mode": {
    "name": "ipython",
    "version": 3
   },
   "file_extension": ".py",
   "mimetype": "text/x-python",
   "name": "python",
   "nbconvert_exporter": "python",
   "pygments_lexer": "ipython3",
   "version": "3.6.4"
  }
 },
 "nbformat": 4,
 "nbformat_minor": 2
}
