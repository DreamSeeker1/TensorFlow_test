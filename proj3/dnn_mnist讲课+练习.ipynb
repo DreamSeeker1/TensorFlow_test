{
 "cells": [
  {
   "cell_type": "markdown",
   "metadata": {},
   "source": [
    "# DNN 建模"
   ]
  },
  {
   "cell_type": "code",
   "execution_count": 14,
   "metadata": {},
   "outputs": [
    {
     "name": "stdout",
     "output_type": "stream",
     "text": [
      "Extracting 练习/MNIST_data/train-images-idx3-ubyte.gz\n",
      "Extracting 练习/MNIST_data/train-labels-idx1-ubyte.gz\n",
      "Extracting 练习/MNIST_data/t10k-images-idx3-ubyte.gz\n",
      "Extracting 练习/MNIST_data/t10k-labels-idx1-ubyte.gz\n"
     ]
    }
   ],
   "source": [
    "import tensorflow as tf\n",
    "from tensorflow.examples.tutorials.mnist import input_data\n",
    "mnist = input_data.read_data_sets('练习/MNIST_data', one_hot=True)"
   ]
  },
  {
   "cell_type": "code",
   "execution_count": 15,
   "metadata": {},
   "outputs": [],
   "source": [
    "x = tf.placeholder(tf.float32, shape=[None, 784])\n",
    "y_ = tf.placeholder(tf.float32, shape=[None, 10])"
   ]
  },
  {
   "cell_type": "markdown",
   "metadata": {},
   "source": [
    "构建单层隐藏层"
   ]
  },
  {
   "cell_type": "code",
   "execution_count": 16,
   "metadata": {},
   "outputs": [],
   "source": [
    "W_h = tf.Variable(tf.truncated_normal([784, 512], mean=0., stddev=0.1))\n",
    "b_h = tf.Variable(tf.zeros([512]))\n",
    "h_linear_output = tf.matmul(x, W_h) + b_h"
   ]
  },
  {
   "cell_type": "markdown",
   "metadata": {},
   "source": [
    "激活函数"
   ]
  },
  {
   "cell_type": "code",
   "execution_count": 17,
   "metadata": {},
   "outputs": [],
   "source": [
    "h_output = tf.nn.tanh(h_linear_output)"
   ]
  },
  {
   "cell_type": "markdown",
   "metadata": {},
   "source": [
    "全连接层"
   ]
  },
  {
   "cell_type": "code",
   "execution_count": 18,
   "metadata": {},
   "outputs": [],
   "source": [
    "W = tf.Variable(tf.truncated_normal([512, 10], mean=0., stddev=0.1))\n",
    "b = tf.Variable(tf.zeros([10]))\n",
    "y = tf.matmul(h_output, W) + b"
   ]
  },
  {
   "cell_type": "markdown",
   "metadata": {},
   "source": [
    "定义loss"
   ]
  },
  {
   "cell_type": "code",
   "execution_count": 19,
   "metadata": {},
   "outputs": [],
   "source": [
    "loss = tf.reduce_mean(tf.nn.softmax_cross_entropy_with_logits(labels=y_, logits=y))"
   ]
  },
  {
   "cell_type": "markdown",
   "metadata": {},
   "source": [
    "使用梯度下降"
   ]
  },
  {
   "cell_type": "code",
   "execution_count": 20,
   "metadata": {},
   "outputs": [],
   "source": [
    "train_step = tf.train.GradientDescentOptimizer(0.5).minimize(loss)"
   ]
  },
  {
   "cell_type": "markdown",
   "metadata": {},
   "source": [
    "计算正确率"
   ]
  },
  {
   "cell_type": "code",
   "execution_count": 21,
   "metadata": {},
   "outputs": [],
   "source": [
    "softmax_result = tf.nn.softmax(y)\n",
    "pred = tf.argmax(softmax_result, axis=1)\n",
    "true = tf.argmax(y_, axis=1)\n",
    "accuracy = tf.reduce_mean(tf.cast(tf.equal(pred, true), tf.float32))"
   ]
  },
  {
   "cell_type": "markdown",
   "metadata": {},
   "source": [
    "定义Interactive Session"
   ]
  },
  {
   "cell_type": "code",
   "execution_count": 22,
   "metadata": {},
   "outputs": [],
   "source": [
    "sess = tf.Session()\n",
    "init = tf.global_variables_initializer()\n",
    "sess.run(init)"
   ]
  },
  {
   "cell_type": "markdown",
   "metadata": {},
   "source": [
    "训练模型"
   ]
  },
  {
   "cell_type": "code",
   "execution_count": 23,
   "metadata": {},
   "outputs": [
    {
     "name": "stdout",
     "output_type": "stream",
     "text": [
      "Step:    0, Loss: 2.6352, Accuracy: 13.28%\n",
      "Step:    0, Vali Loss: 4.1262, Vali Accuracy: 21.36%\n",
      "Step:  100, Loss: 0.2744, Accuracy: 90.62%\n",
      "Step:  100, Vali Loss: 0.3877, Vali Accuracy: 88.78%\n",
      "Step:  200, Loss: 0.2057, Accuracy: 93.75%\n",
      "Step:  200, Vali Loss: 0.2759, Vali Accuracy: 91.86%\n",
      "Step:  300, Loss: 0.0953, Accuracy: 98.44%\n",
      "Step:  300, Vali Loss: 0.2406, Vali Accuracy: 92.94%\n",
      "Step:  400, Loss: 0.3700, Accuracy: 90.62%\n",
      "Step:  400, Vali Loss: 0.2071, Vali Accuracy: 94.30%\n",
      "Step:  500, Loss: 0.2496, Accuracy: 91.41%\n",
      "Step:  500, Vali Loss: 0.2226, Vali Accuracy: 93.10%\n",
      "Step:  600, Loss: 0.3163, Accuracy: 91.41%\n",
      "Step:  600, Vali Loss: 0.2032, Vali Accuracy: 93.84%\n",
      "Step:  700, Loss: 0.2025, Accuracy: 93.75%\n",
      "Step:  700, Vali Loss: 0.1703, Vali Accuracy: 95.38%\n",
      "Step:  800, Loss: 0.1608, Accuracy: 95.31%\n",
      "Step:  800, Vali Loss: 0.1510, Vali Accuracy: 95.80%\n",
      "Step:  900, Loss: 0.1333, Accuracy: 96.88%\n",
      "Step:  900, Vali Loss: 0.1420, Vali Accuracy: 96.06%\n",
      "Step: 1000, Loss: 0.1536, Accuracy: 97.66%\n",
      "Step: 1000, Vali Loss: 0.1404, Vali Accuracy: 96.18%\n",
      "Step: 1100, Loss: 0.1132, Accuracy: 96.09%\n",
      "Step: 1100, Vali Loss: 0.1297, Vali Accuracy: 96.16%\n",
      "Step: 1200, Loss: 0.1410, Accuracy: 95.31%\n",
      "Step: 1200, Vali Loss: 0.1223, Vali Accuracy: 96.64%\n",
      "Step: 1300, Loss: 0.1237, Accuracy: 96.09%\n",
      "Step: 1300, Vali Loss: 0.1525, Vali Accuracy: 95.66%\n",
      "Step: 1400, Loss: 0.0976, Accuracy: 95.31%\n",
      "Step: 1400, Vali Loss: 0.1330, Vali Accuracy: 96.44%\n",
      "Step: 1500, Loss: 0.1710, Accuracy: 94.53%\n",
      "Step: 1500, Vali Loss: 0.1045, Vali Accuracy: 96.88%\n",
      "Step: 1600, Loss: 0.0663, Accuracy: 96.88%\n",
      "Step: 1600, Vali Loss: 0.1055, Vali Accuracy: 97.08%\n",
      "Step: 1700, Loss: 0.0926, Accuracy: 96.09%\n",
      "Step: 1700, Vali Loss: 0.1084, Vali Accuracy: 96.82%\n",
      "Step: 1800, Loss: 0.0848, Accuracy: 97.66%\n",
      "Step: 1800, Vali Loss: 0.1051, Vali Accuracy: 96.98%\n",
      "Step: 1900, Loss: 0.0482, Accuracy: 98.44%\n",
      "Step: 1900, Vali Loss: 0.0992, Vali Accuracy: 97.14%\n",
      "Step: 2000, Loss: 0.1277, Accuracy: 96.88%\n",
      "Step: 2000, Vali Loss: 0.1020, Vali Accuracy: 97.10%\n",
      "Step: 2100, Loss: 0.0463, Accuracy: 98.44%\n",
      "Step: 2100, Vali Loss: 0.0944, Vali Accuracy: 97.18%\n",
      "Step: 2200, Loss: 0.0587, Accuracy: 97.66%\n",
      "Step: 2200, Vali Loss: 0.0897, Vali Accuracy: 97.32%\n",
      "Step: 2300, Loss: 0.1299, Accuracy: 96.88%\n",
      "Step: 2300, Vali Loss: 0.0959, Vali Accuracy: 97.26%\n",
      "Step: 2400, Loss: 0.0269, Accuracy: 99.22%\n",
      "Step: 2400, Vali Loss: 0.0845, Vali Accuracy: 97.64%\n",
      "Step: 2500, Loss: 0.0568, Accuracy: 97.66%\n",
      "Step: 2500, Vali Loss: 0.0858, Vali Accuracy: 97.24%\n",
      "Step: 2600, Loss: 0.0764, Accuracy: 96.88%\n",
      "Step: 2600, Vali Loss: 0.0836, Vali Accuracy: 97.58%\n",
      "Step: 2700, Loss: 0.0262, Accuracy:100.00%\n",
      "Step: 2700, Vali Loss: 0.0834, Vali Accuracy: 97.58%\n",
      "Step: 2800, Loss: 0.0861, Accuracy: 97.66%\n",
      "Step: 2800, Vali Loss: 0.0829, Vali Accuracy: 97.64%\n",
      "Step: 2900, Loss: 0.0502, Accuracy: 98.44%\n",
      "Step: 2900, Vali Loss: 0.0871, Vali Accuracy: 97.42%\n",
      "Step: 3000, Loss: 0.0415, Accuracy: 99.22%\n",
      "Step: 3000, Vali Loss: 0.0774, Vali Accuracy: 97.58%\n",
      "Step: 3100, Loss: 0.0413, Accuracy: 99.22%\n",
      "Step: 3100, Vali Loss: 0.0816, Vali Accuracy: 97.26%\n",
      "Step: 3200, Loss: 0.0215, Accuracy:100.00%\n",
      "Step: 3200, Vali Loss: 0.0773, Vali Accuracy: 97.72%\n",
      "Step: 3300, Loss: 0.0263, Accuracy: 99.22%\n",
      "Step: 3300, Vali Loss: 0.0792, Vali Accuracy: 97.66%\n",
      "Step: 3400, Loss: 0.0281, Accuracy: 99.22%\n",
      "Step: 3400, Vali Loss: 0.0734, Vali Accuracy: 97.78%\n",
      "Step: 3500, Loss: 0.0313, Accuracy: 99.22%\n",
      "Step: 3500, Vali Loss: 0.0743, Vali Accuracy: 97.84%\n",
      "Step: 3600, Loss: 0.0132, Accuracy:100.00%\n",
      "Step: 3600, Vali Loss: 0.0763, Vali Accuracy: 97.62%\n",
      "Step: 3700, Loss: 0.0232, Accuracy: 99.22%\n",
      "Step: 3700, Vali Loss: 0.0726, Vali Accuracy: 97.76%\n",
      "Step: 3800, Loss: 0.0289, Accuracy: 99.22%\n",
      "Step: 3800, Vali Loss: 0.0725, Vali Accuracy: 97.64%\n",
      "Step: 3900, Loss: 0.0400, Accuracy: 99.22%\n",
      "Step: 3900, Vali Loss: 0.0800, Vali Accuracy: 97.30%\n",
      "Step: 4000, Loss: 0.1414, Accuracy: 98.44%\n",
      "Step: 4000, Vali Loss: 0.0797, Vali Accuracy: 97.28%\n",
      "Step: 4100, Loss: 0.0398, Accuracy: 98.44%\n",
      "Step: 4100, Vali Loss: 0.0725, Vali Accuracy: 97.78%\n",
      "Step: 4200, Loss: 0.0408, Accuracy: 99.22%\n",
      "Step: 4200, Vali Loss: 0.0702, Vali Accuracy: 97.94%\n",
      "Step: 4300, Loss: 0.0207, Accuracy: 99.22%\n",
      "Step: 4300, Vali Loss: 0.0710, Vali Accuracy: 97.74%\n",
      "Step: 4400, Loss: 0.0129, Accuracy: 99.22%\n",
      "Step: 4400, Vali Loss: 0.0735, Vali Accuracy: 97.76%\n",
      "Step: 4500, Loss: 0.0550, Accuracy: 98.44%\n",
      "Step: 4500, Vali Loss: 0.0755, Vali Accuracy: 97.58%\n",
      "Step: 4600, Loss: 0.0324, Accuracy: 99.22%\n",
      "Step: 4600, Vali Loss: 0.0702, Vali Accuracy: 97.76%\n",
      "Step: 4700, Loss: 0.0119, Accuracy:100.00%\n",
      "Step: 4700, Vali Loss: 0.0673, Vali Accuracy: 98.08%\n",
      "Step: 4800, Loss: 0.0680, Accuracy: 99.22%\n",
      "Step: 4800, Vali Loss: 0.0754, Vali Accuracy: 97.74%\n",
      "Step: 4900, Loss: 0.0080, Accuracy:100.00%\n",
      "Step: 4900, Vali Loss: 0.0713, Vali Accuracy: 97.76%\n",
      "Step: 5000, Loss: 0.0188, Accuracy:100.00%\n",
      "Step: 5000, Vali Loss: 0.0671, Vali Accuracy: 97.90%\n",
      "Step: 5100, Loss: 0.0054, Accuracy:100.00%\n",
      "Step: 5100, Vali Loss: 0.0677, Vali Accuracy: 98.00%\n",
      "Step: 5200, Loss: 0.0162, Accuracy:100.00%\n",
      "Step: 5200, Vali Loss: 0.0652, Vali Accuracy: 97.94%\n",
      "Step: 5300, Loss: 0.0124, Accuracy:100.00%\n",
      "Step: 5300, Vali Loss: 0.0671, Vali Accuracy: 97.92%\n",
      "Step: 5400, Loss: 0.0121, Accuracy:100.00%\n",
      "Step: 5400, Vali Loss: 0.0677, Vali Accuracy: 98.02%\n",
      "Step: 5500, Loss: 0.0221, Accuracy: 99.22%\n",
      "Step: 5500, Vali Loss: 0.0676, Vali Accuracy: 97.84%\n",
      "Step: 5600, Loss: 0.0070, Accuracy:100.00%\n",
      "Step: 5600, Vali Loss: 0.0652, Vali Accuracy: 98.12%\n",
      "Step: 5700, Loss: 0.0069, Accuracy:100.00%\n",
      "Step: 5700, Vali Loss: 0.0657, Vali Accuracy: 98.16%\n",
      "Step: 5800, Loss: 0.0072, Accuracy:100.00%\n",
      "Step: 5800, Vali Loss: 0.0652, Vali Accuracy: 98.04%\n",
      "Step: 5900, Loss: 0.0280, Accuracy: 99.22%\n",
      "Step: 5900, Vali Loss: 0.0690, Vali Accuracy: 98.06%\n",
      "Step: 6000, Loss: 0.0160, Accuracy:100.00%\n",
      "Step: 6000, Vali Loss: 0.0664, Vali Accuracy: 97.98%\n",
      "Step: 6100, Loss: 0.0145, Accuracy:100.00%\n",
      "Step: 6100, Vali Loss: 0.0638, Vali Accuracy: 97.98%\n",
      "Step: 6200, Loss: 0.0226, Accuracy: 99.22%\n",
      "Step: 6200, Vali Loss: 0.0636, Vali Accuracy: 98.08%\n",
      "Step: 6300, Loss: 0.0052, Accuracy:100.00%\n",
      "Step: 6300, Vali Loss: 0.0632, Vali Accuracy: 98.12%\n",
      "Step: 6400, Loss: 0.0053, Accuracy:100.00%\n",
      "Step: 6400, Vali Loss: 0.0673, Vali Accuracy: 98.08%\n",
      "Step: 6500, Loss: 0.0049, Accuracy:100.00%\n",
      "Step: 6500, Vali Loss: 0.0642, Vali Accuracy: 98.02%\n",
      "Step: 6600, Loss: 0.0072, Accuracy:100.00%\n",
      "Step: 6600, Vali Loss: 0.0635, Vali Accuracy: 98.10%\n",
      "Step: 6700, Loss: 0.0128, Accuracy:100.00%\n",
      "Step: 6700, Vali Loss: 0.0632, Vali Accuracy: 98.20%\n",
      "Step: 6800, Loss: 0.0050, Accuracy:100.00%\n",
      "Step: 6800, Vali Loss: 0.0665, Vali Accuracy: 98.12%\n",
      "Step: 6900, Loss: 0.0080, Accuracy:100.00%\n",
      "Step: 6900, Vali Loss: 0.0638, Vali Accuracy: 98.18%\n",
      "Step: 7000, Loss: 0.0029, Accuracy:100.00%\n",
      "Step: 7000, Vali Loss: 0.0655, Vali Accuracy: 98.02%\n",
      "Step: 7100, Loss: 0.0075, Accuracy:100.00%\n",
      "Step: 7100, Vali Loss: 0.0653, Vali Accuracy: 98.00%\n",
      "Step: 7200, Loss: 0.0078, Accuracy:100.00%\n",
      "Step: 7200, Vali Loss: 0.0647, Vali Accuracy: 98.10%\n",
      "Step: 7300, Loss: 0.0202, Accuracy: 99.22%\n",
      "Step: 7300, Vali Loss: 0.0665, Vali Accuracy: 98.02%\n",
      "Step: 7400, Loss: 0.0126, Accuracy:100.00%\n",
      "Step: 7400, Vali Loss: 0.0624, Vali Accuracy: 98.12%\n",
      "Step: 7500, Loss: 0.0046, Accuracy:100.00%\n",
      "Step: 7500, Vali Loss: 0.0627, Vali Accuracy: 98.10%\n",
      "Step: 7600, Loss: 0.0076, Accuracy:100.00%\n",
      "Step: 7600, Vali Loss: 0.0650, Vali Accuracy: 98.02%\n",
      "Step: 7700, Loss: 0.0066, Accuracy:100.00%\n",
      "Step: 7700, Vali Loss: 0.0629, Vali Accuracy: 98.10%\n",
      "Step: 7800, Loss: 0.0092, Accuracy:100.00%\n",
      "Step: 7800, Vali Loss: 0.0646, Vali Accuracy: 98.18%\n",
      "Step: 7900, Loss: 0.0070, Accuracy:100.00%\n",
      "Step: 7900, Vali Loss: 0.0637, Vali Accuracy: 98.16%\n",
      "Training Finished, Loss: 0.0615, Accuracy: 98.01%\n"
     ]
    }
   ],
   "source": [
    "for i in range(8000):\n",
    "    batch = mnist.train.next_batch(128)\n",
    "    _, loss_, acu = sess.run([train_step, loss, accuracy], {x: batch[0], y_: batch[1]})\n",
    "    if i % 100 == 0:\n",
    "        print(\"Step:{:>5}, Loss:{:>7.4f}, Accuracy:{:>7.2%}\".format(i, loss_, acu))\n",
    "        loss_, acu = sess.run([loss, accuracy], {x: mnist.validation.images, \n",
    "                                                 y_: mnist.validation.labels})\n",
    "        print(\"Step:{:>5}, Vali Loss:{:>7.4f}, Vali Accuracy:{:>7.2%}\".format(i, loss_, acu))\n",
    "loss_, acu = sess.run([loss, accuracy], {x: mnist.test.images, \n",
    "                                                        y_: mnist.test.labels})\n",
    "print(\"Training Finished, Loss:{:>7.4f}, Accuracy:{:>7.2%}\".format(loss_, acu))"
   ]
  },
  {
   "cell_type": "code",
   "execution_count": null,
   "metadata": {
    "collapsed": true
   },
   "outputs": [],
   "source": []
  },
  {
   "cell_type": "code",
   "execution_count": null,
   "metadata": {
    "collapsed": true
   },
   "outputs": [],
   "source": []
  },
  {
   "cell_type": "markdown",
   "metadata": {
    "collapsed": true
   },
   "source": [
    "## tf.layers.dense"
   ]
  },
  {
   "cell_type": "code",
   "execution_count": 26,
   "metadata": {},
   "outputs": [
    {
     "name": "stdout",
     "output_type": "stream",
     "text": [
      "Extracting 练习/MNIST_data/train-images-idx3-ubyte.gz\n",
      "Extracting 练习/MNIST_data/train-labels-idx1-ubyte.gz\n",
      "Extracting 练习/MNIST_data/t10k-images-idx3-ubyte.gz\n",
      "Extracting 练习/MNIST_data/t10k-labels-idx1-ubyte.gz\n"
     ]
    }
   ],
   "source": [
    "import tensorflow as tf\n",
    "from tensorflow.examples.tutorials.mnist import input_data\n",
    "mnist = input_data.read_data_sets('练习/MNIST_data', one_hot=True)"
   ]
  },
  {
   "cell_type": "code",
   "execution_count": 27,
   "metadata": {},
   "outputs": [],
   "source": [
    "x = tf.placeholder(tf.float32, shape=[None, 784])\n",
    "y_ = tf.placeholder(tf.float32, shape=[None, 10])"
   ]
  },
  {
   "cell_type": "markdown",
   "metadata": {},
   "source": [
    "同上构建一个隐含层"
   ]
  },
  {
   "cell_type": "code",
   "execution_count": 28,
   "metadata": {},
   "outputs": [],
   "source": [
    "layer1 = tf.layers.dense(inputs=x, \n",
    "                         units=512, \n",
    "                         activation=tf.nn.tanh,                        \n",
    "                         bias_initializer=tf.constant_initializer(0),\n",
    "                         kernel_initializer=tf.truncated_normal_initializer(stddev=0.1)\n",
    "                        )\n"
   ]
  },
  {
   "cell_type": "markdown",
   "metadata": {},
   "source": [
    "全连接层"
   ]
  },
  {
   "cell_type": "code",
   "execution_count": 29,
   "metadata": {},
   "outputs": [],
   "source": [
    "y = tf.layers.dense(inputs=layer1, \n",
    "                         units=10, \n",
    "                         activation=None,                        \n",
    "                         bias_initializer=tf.constant_initializer(0),\n",
    "                         kernel_initializer=tf.truncated_normal_initializer(stddev=0.1)\n",
    "                        )"
   ]
  },
  {
   "cell_type": "markdown",
   "metadata": {},
   "source": [
    "定义loss"
   ]
  },
  {
   "cell_type": "code",
   "execution_count": 30,
   "metadata": {},
   "outputs": [],
   "source": [
    "loss = tf.reduce_mean(tf.nn.softmax_cross_entropy_with_logits(labels=y_, logits=y))"
   ]
  },
  {
   "cell_type": "markdown",
   "metadata": {},
   "source": [
    "使用梯度下降"
   ]
  },
  {
   "cell_type": "code",
   "execution_count": 31,
   "metadata": {},
   "outputs": [],
   "source": [
    "train_step = tf.train.GradientDescentOptimizer(0.5).minimize(loss)"
   ]
  },
  {
   "cell_type": "markdown",
   "metadata": {},
   "source": [
    "计算正确率"
   ]
  },
  {
   "cell_type": "code",
   "execution_count": 32,
   "metadata": {},
   "outputs": [],
   "source": [
    "softmax_result = tf.nn.softmax(y)\n",
    "pred = tf.argmax(softmax_result, axis=1)\n",
    "true = tf.argmax(y_, axis=1)\n",
    "accuracy = tf.reduce_mean(tf.cast(tf.equal(pred, true), tf.float32))"
   ]
  },
  {
   "cell_type": "markdown",
   "metadata": {},
   "source": [
    "定义Interactive Session"
   ]
  },
  {
   "cell_type": "code",
   "execution_count": 33,
   "metadata": {},
   "outputs": [],
   "source": [
    "sess = tf.InteractiveSession()\n",
    "init = tf.global_variables_initializer()\n",
    "sess.run(init)"
   ]
  },
  {
   "cell_type": "markdown",
   "metadata": {},
   "source": [
    "训练模型并加入了验证集验证"
   ]
  },
  {
   "cell_type": "code",
   "execution_count": 34,
   "metadata": {},
   "outputs": [
    {
     "name": "stdout",
     "output_type": "stream",
     "text": [
      "Step:    0, Loss: 2.8578, Accuracy: 12.50%\n",
      "Step:    0, Vali Loss: 4.8699, Vali Accuracy: 32.28%\n",
      "Step:  100, Loss: 0.2648, Accuracy: 89.06%\n",
      "Step:  100, Vali Loss: 0.3222, Vali Accuracy: 90.70%\n",
      "Step:  200, Loss: 0.2042, Accuracy: 94.53%\n",
      "Step:  200, Vali Loss: 0.2651, Vali Accuracy: 92.28%\n",
      "Step:  300, Loss: 0.3394, Accuracy: 92.19%\n",
      "Step:  300, Vali Loss: 0.2365, Vali Accuracy: 93.30%\n",
      "Step:  400, Loss: 0.2041, Accuracy: 94.53%\n",
      "Step:  400, Vali Loss: 0.2219, Vali Accuracy: 93.76%\n",
      "Step:  500, Loss: 0.2066, Accuracy: 93.75%\n",
      "Step:  500, Vali Loss: 0.2113, Vali Accuracy: 93.78%\n",
      "Step:  600, Loss: 0.2360, Accuracy: 93.75%\n",
      "Step:  600, Vali Loss: 0.1909, Vali Accuracy: 94.58%\n",
      "Step:  700, Loss: 0.2374, Accuracy: 93.75%\n",
      "Step:  700, Vali Loss: 0.1649, Vali Accuracy: 95.26%\n",
      "Step:  800, Loss: 0.2926, Accuracy: 92.97%\n",
      "Step:  800, Vali Loss: 0.2027, Vali Accuracy: 93.40%\n",
      "Step:  900, Loss: 0.1301, Accuracy: 96.09%\n",
      "Step:  900, Vali Loss: 0.1469, Vali Accuracy: 96.06%\n",
      "Step: 1000, Loss: 0.0937, Accuracy: 96.88%\n",
      "Step: 1000, Vali Loss: 0.1478, Vali Accuracy: 95.98%\n",
      "Step: 1100, Loss: 0.1481, Accuracy: 96.09%\n",
      "Step: 1100, Vali Loss: 0.1281, Vali Accuracy: 96.40%\n",
      "Step: 1200, Loss: 0.0456, Accuracy: 98.44%\n",
      "Step: 1200, Vali Loss: 0.1297, Vali Accuracy: 96.40%\n",
      "Step: 1300, Loss: 0.0824, Accuracy: 96.88%\n",
      "Step: 1300, Vali Loss: 0.1481, Vali Accuracy: 95.68%\n",
      "Step: 1400, Loss: 0.1080, Accuracy: 94.53%\n",
      "Step: 1400, Vali Loss: 0.1330, Vali Accuracy: 95.78%\n",
      "Step: 1500, Loss: 0.1178, Accuracy: 96.88%\n",
      "Step: 1500, Vali Loss: 0.1186, Vali Accuracy: 96.44%\n",
      "Step: 1600, Loss: 0.1210, Accuracy: 96.09%\n",
      "Step: 1600, Vali Loss: 0.1085, Vali Accuracy: 96.76%\n",
      "Step: 1700, Loss: 0.0462, Accuracy: 98.44%\n",
      "Step: 1700, Vali Loss: 0.1078, Vali Accuracy: 97.14%\n",
      "Step: 1800, Loss: 0.0513, Accuracy: 99.22%\n",
      "Step: 1800, Vali Loss: 0.1030, Vali Accuracy: 97.08%\n",
      "Step: 1900, Loss: 0.0261, Accuracy: 99.22%\n",
      "Step: 1900, Vali Loss: 0.0962, Vali Accuracy: 97.32%\n",
      "Step: 2000, Loss: 0.0878, Accuracy: 96.88%\n",
      "Step: 2000, Vali Loss: 0.0996, Vali Accuracy: 97.00%\n",
      "Step: 2100, Loss: 0.0964, Accuracy: 97.66%\n",
      "Step: 2100, Vali Loss: 0.0917, Vali Accuracy: 97.02%\n",
      "Step: 2200, Loss: 0.0391, Accuracy: 98.44%\n",
      "Step: 2200, Vali Loss: 0.0934, Vali Accuracy: 97.20%\n",
      "Step: 2300, Loss: 0.0929, Accuracy: 96.09%\n",
      "Step: 2300, Vali Loss: 0.0890, Vali Accuracy: 97.38%\n",
      "Step: 2400, Loss: 0.0432, Accuracy: 98.44%\n",
      "Step: 2400, Vali Loss: 0.0846, Vali Accuracy: 97.42%\n",
      "Step: 2500, Loss: 0.0642, Accuracy: 98.44%\n",
      "Step: 2500, Vali Loss: 0.0815, Vali Accuracy: 97.44%\n",
      "Step: 2600, Loss: 0.0491, Accuracy: 98.44%\n",
      "Step: 2600, Vali Loss: 0.0903, Vali Accuracy: 97.18%\n",
      "Step: 2700, Loss: 0.0203, Accuracy:100.00%\n",
      "Step: 2700, Vali Loss: 0.0805, Vali Accuracy: 97.64%\n",
      "Step: 2800, Loss: 0.0407, Accuracy: 99.22%\n",
      "Step: 2800, Vali Loss: 0.0789, Vali Accuracy: 97.68%\n",
      "Step: 2900, Loss: 0.0441, Accuracy: 97.66%\n",
      "Step: 2900, Vali Loss: 0.0765, Vali Accuracy: 97.66%\n",
      "Step: 3000, Loss: 0.0407, Accuracy: 99.22%\n",
      "Step: 3000, Vali Loss: 0.0802, Vali Accuracy: 97.54%\n",
      "Step: 3100, Loss: 0.1187, Accuracy: 97.66%\n",
      "Step: 3100, Vali Loss: 0.0837, Vali Accuracy: 97.52%\n",
      "Step: 3200, Loss: 0.0574, Accuracy: 98.44%\n",
      "Step: 3200, Vali Loss: 0.0796, Vali Accuracy: 97.70%\n",
      "Step: 3300, Loss: 0.0262, Accuracy: 99.22%\n",
      "Step: 3300, Vali Loss: 0.0813, Vali Accuracy: 97.58%\n",
      "Step: 3400, Loss: 0.0165, Accuracy: 99.22%\n",
      "Step: 3400, Vali Loss: 0.0772, Vali Accuracy: 97.66%\n",
      "Step: 3500, Loss: 0.0269, Accuracy: 99.22%\n",
      "Step: 3500, Vali Loss: 0.0744, Vali Accuracy: 97.78%\n",
      "Step: 3600, Loss: 0.0352, Accuracy: 99.22%\n",
      "Step: 3600, Vali Loss: 0.0771, Vali Accuracy: 97.54%\n",
      "Step: 3700, Loss: 0.0740, Accuracy: 98.44%\n",
      "Step: 3700, Vali Loss: 0.0731, Vali Accuracy: 97.88%\n",
      "Step: 3800, Loss: 0.0071, Accuracy:100.00%\n",
      "Step: 3800, Vali Loss: 0.0743, Vali Accuracy: 97.82%\n",
      "Step: 3900, Loss: 0.0094, Accuracy:100.00%\n",
      "Step: 3900, Vali Loss: 0.0714, Vali Accuracy: 97.90%\n",
      "Step: 4000, Loss: 0.0093, Accuracy:100.00%\n",
      "Step: 4000, Vali Loss: 0.0758, Vali Accuracy: 97.62%\n",
      "Step: 4100, Loss: 0.0221, Accuracy: 99.22%\n",
      "Step: 4100, Vali Loss: 0.0743, Vali Accuracy: 97.76%\n",
      "Step: 4200, Loss: 0.0867, Accuracy: 96.09%\n",
      "Step: 4200, Vali Loss: 0.0724, Vali Accuracy: 97.70%\n",
      "Step: 4300, Loss: 0.0169, Accuracy: 99.22%\n",
      "Step: 4300, Vali Loss: 0.0715, Vali Accuracy: 97.84%\n",
      "Step: 4400, Loss: 0.0169, Accuracy:100.00%\n",
      "Step: 4400, Vali Loss: 0.0677, Vali Accuracy: 97.94%\n",
      "Step: 4500, Loss: 0.0210, Accuracy: 99.22%\n",
      "Step: 4500, Vali Loss: 0.0708, Vali Accuracy: 97.86%\n",
      "Step: 4600, Loss: 0.0307, Accuracy: 98.44%\n",
      "Step: 4600, Vali Loss: 0.0751, Vali Accuracy: 97.66%\n",
      "Step: 4700, Loss: 0.0202, Accuracy: 99.22%\n",
      "Step: 4700, Vali Loss: 0.0711, Vali Accuracy: 97.88%\n",
      "Step: 4800, Loss: 0.0062, Accuracy:100.00%\n",
      "Step: 4800, Vali Loss: 0.0679, Vali Accuracy: 97.94%\n",
      "Step: 4900, Loss: 0.0137, Accuracy: 99.22%\n",
      "Step: 4900, Vali Loss: 0.0695, Vali Accuracy: 97.94%\n",
      "Step: 5000, Loss: 0.0205, Accuracy: 99.22%\n",
      "Step: 5000, Vali Loss: 0.0734, Vali Accuracy: 97.90%\n",
      "Step: 5100, Loss: 0.0132, Accuracy:100.00%\n",
      "Step: 5100, Vali Loss: 0.0674, Vali Accuracy: 97.98%\n",
      "Step: 5200, Loss: 0.0105, Accuracy:100.00%\n",
      "Step: 5200, Vali Loss: 0.0721, Vali Accuracy: 97.98%\n",
      "Step: 5300, Loss: 0.0158, Accuracy:100.00%\n",
      "Step: 5300, Vali Loss: 0.0709, Vali Accuracy: 97.84%\n",
      "Step: 5400, Loss: 0.0112, Accuracy:100.00%\n",
      "Step: 5400, Vali Loss: 0.0693, Vali Accuracy: 98.02%\n",
      "Step: 5500, Loss: 0.0038, Accuracy:100.00%\n",
      "Step: 5500, Vali Loss: 0.0661, Vali Accuracy: 97.96%\n",
      "Step: 5600, Loss: 0.0150, Accuracy:100.00%\n",
      "Step: 5600, Vali Loss: 0.0699, Vali Accuracy: 97.84%\n",
      "Step: 5700, Loss: 0.0069, Accuracy:100.00%\n",
      "Step: 5700, Vali Loss: 0.0691, Vali Accuracy: 97.88%\n",
      "Step: 5800, Loss: 0.0131, Accuracy:100.00%\n",
      "Step: 5800, Vali Loss: 0.0662, Vali Accuracy: 98.02%\n",
      "Step: 5900, Loss: 0.0196, Accuracy: 99.22%\n",
      "Step: 5900, Vali Loss: 0.0707, Vali Accuracy: 97.92%\n",
      "Step: 6000, Loss: 0.0141, Accuracy:100.00%\n",
      "Step: 6000, Vali Loss: 0.0683, Vali Accuracy: 97.94%\n",
      "Step: 6100, Loss: 0.0095, Accuracy:100.00%\n",
      "Step: 6100, Vali Loss: 0.0678, Vali Accuracy: 97.92%\n",
      "Step: 6200, Loss: 0.0069, Accuracy:100.00%\n",
      "Step: 6200, Vali Loss: 0.0679, Vali Accuracy: 97.98%\n",
      "Step: 6300, Loss: 0.0195, Accuracy: 99.22%\n",
      "Step: 6300, Vali Loss: 0.0687, Vali Accuracy: 97.96%\n",
      "Step: 6400, Loss: 0.0082, Accuracy:100.00%\n",
      "Step: 6400, Vali Loss: 0.0703, Vali Accuracy: 98.06%\n",
      "Step: 6500, Loss: 0.0237, Accuracy: 98.44%\n",
      "Step: 6500, Vali Loss: 0.0699, Vali Accuracy: 97.96%\n",
      "Step: 6600, Loss: 0.0108, Accuracy:100.00%\n",
      "Step: 6600, Vali Loss: 0.0683, Vali Accuracy: 97.86%\n",
      "Step: 6700, Loss: 0.0050, Accuracy:100.00%\n",
      "Step: 6700, Vali Loss: 0.0675, Vali Accuracy: 97.90%\n",
      "Step: 6800, Loss: 0.0161, Accuracy:100.00%\n",
      "Step: 6800, Vali Loss: 0.0664, Vali Accuracy: 97.96%\n",
      "Step: 6900, Loss: 0.0186, Accuracy: 98.44%\n",
      "Step: 6900, Vali Loss: 0.0698, Vali Accuracy: 97.96%\n",
      "Step: 7000, Loss: 0.0087, Accuracy:100.00%\n",
      "Step: 7000, Vali Loss: 0.0663, Vali Accuracy: 98.00%\n",
      "Step: 7100, Loss: 0.0067, Accuracy:100.00%\n",
      "Step: 7100, Vali Loss: 0.0664, Vali Accuracy: 97.90%\n",
      "Step: 7200, Loss: 0.0061, Accuracy:100.00%\n",
      "Step: 7200, Vali Loss: 0.0674, Vali Accuracy: 97.96%\n",
      "Step: 7300, Loss: 0.0073, Accuracy:100.00%\n",
      "Step: 7300, Vali Loss: 0.0673, Vali Accuracy: 98.10%\n",
      "Step: 7400, Loss: 0.0050, Accuracy:100.00%\n",
      "Step: 7400, Vali Loss: 0.0650, Vali Accuracy: 98.02%\n",
      "Step: 7500, Loss: 0.0068, Accuracy:100.00%\n",
      "Step: 7500, Vali Loss: 0.0678, Vali Accuracy: 97.84%\n",
      "Step: 7600, Loss: 0.0088, Accuracy:100.00%\n",
      "Step: 7600, Vali Loss: 0.0665, Vali Accuracy: 97.98%\n",
      "Step: 7700, Loss: 0.0069, Accuracy:100.00%\n",
      "Step: 7700, Vali Loss: 0.0670, Vali Accuracy: 98.00%\n",
      "Step: 7800, Loss: 0.0055, Accuracy:100.00%\n",
      "Step: 7800, Vali Loss: 0.0680, Vali Accuracy: 97.98%\n",
      "Step: 7900, Loss: 0.0060, Accuracy:100.00%\n",
      "Step: 7900, Vali Loss: 0.0663, Vali Accuracy: 98.08%\n",
      "Training Finished, Loss: 0.0602, Accuracy: 98.12%\n"
     ]
    }
   ],
   "source": [
    "for i in range(8000):\n",
    "    batch = mnist.train.next_batch(128)\n",
    "    _, loss_, acu = sess.run([train_step, loss, accuracy], {x: batch[0], y_: batch[1]})\n",
    "    if i % 100 == 0:\n",
    "        print(\"Step:{:>5}, Loss:{:>7.4f}, Accuracy:{:>7.2%}\".format(i, loss_, acu))\n",
    "        loss_, acu = sess.run([loss, accuracy], {x: mnist.validation.images, \n",
    "                                                 y_: mnist.validation.labels})\n",
    "        print(\"Step:{:>5}, Vali Loss:{:>7.4f}, Vali Accuracy:{:>7.2%}\".format(i, loss_, acu))\n",
    "loss_, acu = sess.run([loss, accuracy], {x: mnist.test.images, \n",
    "                                                        y_: mnist.test.labels})\n",
    "print(\"Training Finished, Loss:{:>7.4f}, Accuracy:{:>7.2%}\".format(loss_, acu))"
   ]
  },
  {
   "cell_type": "code",
   "execution_count": null,
   "metadata": {
    "collapsed": true
   },
   "outputs": [],
   "source": []
  },
  {
   "cell_type": "markdown",
   "metadata": {
    "collapsed": true
   },
   "source": [
    "###  练习1--设计三个隐含层，查看训练效果 （5分钟）可能会跑不动"
   ]
  },
  {
   "cell_type": "code",
   "execution_count": 13,
   "metadata": {},
   "outputs": [
    {
     "name": "stdout",
     "output_type": "stream",
     "text": [
      "Extracting 练习/MNIST_data/train-images-idx3-ubyte.gz\n",
      "Extracting 练习/MNIST_data/train-labels-idx1-ubyte.gz\n",
      "Extracting 练习/MNIST_data/t10k-images-idx3-ubyte.gz\n",
      "Extracting 练习/MNIST_data/t10k-labels-idx1-ubyte.gz\n",
      "Step:    0, Loss: 2.4531, Accuracy: 12.50%\n",
      "Step:    0, Vali Loss: 2.5975, Vali Accuracy: 29.98%\n",
      "Step:  100, Loss: 0.1696, Accuracy: 94.53%\n",
      "Step:  100, Vali Loss: 0.2883, Vali Accuracy: 91.44%\n",
      "Step:  200, Loss: 0.2594, Accuracy: 89.84%\n",
      "Step:  200, Vali Loss: 0.2389, Vali Accuracy: 92.54%\n",
      "Step:  300, Loss: 0.1967, Accuracy: 94.53%\n",
      "Step:  300, Vali Loss: 0.1758, Vali Accuracy: 94.90%\n",
      "Step:  400, Loss: 0.1826, Accuracy: 93.75%\n",
      "Step:  400, Vali Loss: 0.1319, Vali Accuracy: 96.18%\n",
      "Step:  500, Loss: 0.0866, Accuracy: 97.66%\n",
      "Step:  500, Vali Loss: 0.1158, Vali Accuracy: 96.82%\n",
      "Step:  600, Loss: 0.2461, Accuracy: 94.53%\n",
      "Step:  600, Vali Loss: 0.1433, Vali Accuracy: 95.66%\n",
      "Step:  700, Loss: 0.0746, Accuracy: 96.88%\n",
      "Step:  700, Vali Loss: 0.1094, Vali Accuracy: 96.82%\n",
      "Step:  800, Loss: 0.0323, Accuracy: 99.22%\n",
      "Step:  800, Vali Loss: 0.1011, Vali Accuracy: 97.00%\n",
      "Step:  900, Loss: 0.0446, Accuracy: 98.44%\n",
      "Step:  900, Vali Loss: 0.0944, Vali Accuracy: 97.34%\n",
      "Step: 1000, Loss: 0.0198, Accuracy:100.00%\n",
      "Step: 1000, Vali Loss: 0.0924, Vali Accuracy: 97.24%\n",
      "Step: 1100, Loss: 0.0322, Accuracy: 99.22%\n",
      "Step: 1100, Vali Loss: 0.0884, Vali Accuracy: 97.38%\n",
      "Step: 1200, Loss: 0.0435, Accuracy: 98.44%\n",
      "Step: 1200, Vali Loss: 0.0847, Vali Accuracy: 97.48%\n",
      "Step: 1300, Loss: 0.0384, Accuracy: 99.22%\n",
      "Step: 1300, Vali Loss: 0.0759, Vali Accuracy: 97.66%\n",
      "Step: 1400, Loss: 0.0869, Accuracy: 98.44%\n",
      "Step: 1400, Vali Loss: 0.0815, Vali Accuracy: 97.56%\n",
      "Step: 1500, Loss: 0.0340, Accuracy: 99.22%\n",
      "Step: 1500, Vali Loss: 0.0818, Vali Accuracy: 97.62%\n",
      "Step: 1600, Loss: 0.0535, Accuracy: 98.44%\n",
      "Step: 1600, Vali Loss: 0.0798, Vali Accuracy: 97.70%\n",
      "Step: 1700, Loss: 0.0157, Accuracy:100.00%\n",
      "Step: 1700, Vali Loss: 0.0823, Vali Accuracy: 97.52%\n",
      "Step: 1800, Loss: 0.0110, Accuracy:100.00%\n",
      "Step: 1800, Vali Loss: 0.0701, Vali Accuracy: 97.96%\n",
      "Step: 1900, Loss: 0.0205, Accuracy:100.00%\n",
      "Step: 1900, Vali Loss: 0.0708, Vali Accuracy: 98.04%\n",
      "Step: 2000, Loss: 0.0107, Accuracy:100.00%\n",
      "Step: 2000, Vali Loss: 0.0678, Vali Accuracy: 97.84%\n",
      "Step: 2100, Loss: 0.0134, Accuracy: 99.22%\n",
      "Step: 2100, Vali Loss: 0.0784, Vali Accuracy: 97.60%\n",
      "Step: 2200, Loss: 0.0035, Accuracy:100.00%\n",
      "Step: 2200, Vali Loss: 0.0694, Vali Accuracy: 97.78%\n",
      "Step: 2300, Loss: 0.0152, Accuracy: 99.22%\n",
      "Step: 2300, Vali Loss: 0.0683, Vali Accuracy: 98.06%\n",
      "Step: 2400, Loss: 0.0213, Accuracy:100.00%\n",
      "Step: 2400, Vali Loss: 0.0668, Vali Accuracy: 97.94%\n",
      "Step: 2500, Loss: 0.0202, Accuracy: 99.22%\n",
      "Step: 2500, Vali Loss: 0.0688, Vali Accuracy: 97.86%\n",
      "Step: 2600, Loss: 0.0065, Accuracy:100.00%\n",
      "Step: 2600, Vali Loss: 0.0680, Vali Accuracy: 98.04%\n",
      "Step: 2700, Loss: 0.0044, Accuracy:100.00%\n",
      "Step: 2700, Vali Loss: 0.0662, Vali Accuracy: 98.16%\n",
      "Step: 2800, Loss: 0.0041, Accuracy:100.00%\n",
      "Step: 2800, Vali Loss: 0.0647, Vali Accuracy: 98.10%\n",
      "Step: 2900, Loss: 0.0050, Accuracy:100.00%\n",
      "Step: 2900, Vali Loss: 0.0680, Vali Accuracy: 97.98%\n",
      "Step: 3000, Loss: 0.0079, Accuracy:100.00%\n",
      "Step: 3000, Vali Loss: 0.0680, Vali Accuracy: 98.16%\n",
      "Step: 3100, Loss: 0.0041, Accuracy:100.00%\n",
      "Step: 3100, Vali Loss: 0.0642, Vali Accuracy: 98.08%\n",
      "Step: 3200, Loss: 0.0031, Accuracy:100.00%\n",
      "Step: 3200, Vali Loss: 0.0657, Vali Accuracy: 98.02%\n",
      "Step: 3300, Loss: 0.0055, Accuracy:100.00%\n",
      "Step: 3300, Vali Loss: 0.0620, Vali Accuracy: 98.28%\n",
      "Step: 3400, Loss: 0.0027, Accuracy:100.00%\n",
      "Step: 3400, Vali Loss: 0.0645, Vali Accuracy: 98.28%\n",
      "Step: 3500, Loss: 0.0008, Accuracy:100.00%\n",
      "Step: 3500, Vali Loss: 0.0625, Vali Accuracy: 98.18%\n",
      "Step: 3600, Loss: 0.0026, Accuracy:100.00%\n",
      "Step: 3600, Vali Loss: 0.0631, Vali Accuracy: 98.18%\n",
      "Step: 3700, Loss: 0.0022, Accuracy:100.00%\n",
      "Step: 3700, Vali Loss: 0.0659, Vali Accuracy: 98.18%\n",
      "Step: 3800, Loss: 0.0098, Accuracy: 99.22%\n",
      "Step: 3800, Vali Loss: 0.0733, Vali Accuracy: 98.12%\n",
      "Step: 3900, Loss: 0.0009, Accuracy:100.00%\n",
      "Step: 3900, Vali Loss: 0.0639, Vali Accuracy: 98.18%\n",
      "Step: 4000, Loss: 0.0017, Accuracy:100.00%\n",
      "Step: 4000, Vali Loss: 0.0649, Vali Accuracy: 98.18%\n",
      "Step: 4100, Loss: 0.0033, Accuracy:100.00%\n",
      "Step: 4100, Vali Loss: 0.0635, Vali Accuracy: 98.24%\n",
      "Step: 4200, Loss: 0.0070, Accuracy:100.00%\n",
      "Step: 4200, Vali Loss: 0.0679, Vali Accuracy: 98.22%\n",
      "Step: 4300, Loss: 0.0025, Accuracy:100.00%\n",
      "Step: 4300, Vali Loss: 0.0657, Vali Accuracy: 98.18%\n",
      "Step: 4400, Loss: 0.0017, Accuracy:100.00%\n",
      "Step: 4400, Vali Loss: 0.0648, Vali Accuracy: 98.16%\n",
      "Step: 4500, Loss: 0.0009, Accuracy:100.00%\n",
      "Step: 4500, Vali Loss: 0.0656, Vali Accuracy: 98.24%\n",
      "Step: 4600, Loss: 0.0015, Accuracy:100.00%\n",
      "Step: 4600, Vali Loss: 0.0648, Vali Accuracy: 98.28%\n",
      "Step: 4700, Loss: 0.0010, Accuracy:100.00%\n",
      "Step: 4700, Vali Loss: 0.0700, Vali Accuracy: 98.16%\n",
      "Step: 4800, Loss: 0.0014, Accuracy:100.00%\n",
      "Step: 4800, Vali Loss: 0.0659, Vali Accuracy: 98.20%\n",
      "Step: 4900, Loss: 0.0009, Accuracy:100.00%\n",
      "Step: 4900, Vali Loss: 0.0661, Vali Accuracy: 98.18%\n",
      "Step: 5000, Loss: 0.0008, Accuracy:100.00%\n",
      "Step: 5000, Vali Loss: 0.0658, Vali Accuracy: 98.32%\n",
      "Step: 5100, Loss: 0.0011, Accuracy:100.00%\n",
      "Step: 5100, Vali Loss: 0.0663, Vali Accuracy: 98.16%\n",
      "Step: 5200, Loss: 0.0010, Accuracy:100.00%\n",
      "Step: 5200, Vali Loss: 0.0663, Vali Accuracy: 98.24%\n",
      "Step: 5300, Loss: 0.0007, Accuracy:100.00%\n",
      "Step: 5300, Vali Loss: 0.0654, Vali Accuracy: 98.32%\n",
      "Step: 5400, Loss: 0.0017, Accuracy:100.00%\n",
      "Step: 5400, Vali Loss: 0.0664, Vali Accuracy: 98.18%\n",
      "Step: 5500, Loss: 0.0004, Accuracy:100.00%\n",
      "Step: 5500, Vali Loss: 0.0656, Vali Accuracy: 98.28%\n",
      "Step: 5600, Loss: 0.0006, Accuracy:100.00%\n",
      "Step: 5600, Vali Loss: 0.0663, Vali Accuracy: 98.30%\n",
      "Step: 5700, Loss: 0.0012, Accuracy:100.00%\n",
      "Step: 5700, Vali Loss: 0.0661, Vali Accuracy: 98.34%\n",
      "Step: 5800, Loss: 0.0014, Accuracy:100.00%\n",
      "Step: 5800, Vali Loss: 0.0674, Vali Accuracy: 98.24%\n",
      "Step: 5900, Loss: 0.0007, Accuracy:100.00%\n",
      "Step: 5900, Vali Loss: 0.0668, Vali Accuracy: 98.28%\n",
      "Step: 6000, Loss: 0.0007, Accuracy:100.00%\n",
      "Step: 6000, Vali Loss: 0.0672, Vali Accuracy: 98.26%\n",
      "Step: 6100, Loss: 0.0006, Accuracy:100.00%\n",
      "Step: 6100, Vali Loss: 0.0669, Vali Accuracy: 98.24%\n",
      "Step: 6200, Loss: 0.0010, Accuracy:100.00%\n",
      "Step: 6200, Vali Loss: 0.0677, Vali Accuracy: 98.24%\n",
      "Step: 6300, Loss: 0.0007, Accuracy:100.00%\n",
      "Step: 6300, Vali Loss: 0.0669, Vali Accuracy: 98.26%\n",
      "Step: 6400, Loss: 0.0007, Accuracy:100.00%\n",
      "Step: 6400, Vali Loss: 0.0671, Vali Accuracy: 98.24%\n",
      "Step: 6500, Loss: 0.0010, Accuracy:100.00%\n",
      "Step: 6500, Vali Loss: 0.0677, Vali Accuracy: 98.22%\n",
      "Step: 6600, Loss: 0.0007, Accuracy:100.00%\n",
      "Step: 6600, Vali Loss: 0.0671, Vali Accuracy: 98.26%\n",
      "Step: 6700, Loss: 0.0004, Accuracy:100.00%\n",
      "Step: 6700, Vali Loss: 0.0674, Vali Accuracy: 98.22%\n",
      "Step: 6800, Loss: 0.0004, Accuracy:100.00%\n",
      "Step: 6800, Vali Loss: 0.0681, Vali Accuracy: 98.32%\n",
      "Step: 6900, Loss: 0.0005, Accuracy:100.00%\n",
      "Step: 6900, Vali Loss: 0.0677, Vali Accuracy: 98.28%\n",
      "Step: 7000, Loss: 0.0003, Accuracy:100.00%\n",
      "Step: 7000, Vali Loss: 0.0681, Vali Accuracy: 98.26%\n",
      "Step: 7100, Loss: 0.0006, Accuracy:100.00%\n",
      "Step: 7100, Vali Loss: 0.0672, Vali Accuracy: 98.26%\n",
      "Step: 7200, Loss: 0.0006, Accuracy:100.00%\n",
      "Step: 7200, Vali Loss: 0.0683, Vali Accuracy: 98.30%\n",
      "Step: 7300, Loss: 0.0007, Accuracy:100.00%\n",
      "Step: 7300, Vali Loss: 0.0680, Vali Accuracy: 98.30%\n",
      "Step: 7400, Loss: 0.0005, Accuracy:100.00%\n",
      "Step: 7400, Vali Loss: 0.0685, Vali Accuracy: 98.28%\n",
      "Step: 7500, Loss: 0.0010, Accuracy:100.00%\n",
      "Step: 7500, Vali Loss: 0.0684, Vali Accuracy: 98.32%\n",
      "Step: 7600, Loss: 0.0003, Accuracy:100.00%\n",
      "Step: 7600, Vali Loss: 0.0687, Vali Accuracy: 98.32%\n",
      "Step: 7700, Loss: 0.0006, Accuracy:100.00%\n",
      "Step: 7700, Vali Loss: 0.0684, Vali Accuracy: 98.26%\n",
      "Step: 7800, Loss: 0.0007, Accuracy:100.00%\n",
      "Step: 7800, Vali Loss: 0.0692, Vali Accuracy: 98.32%\n",
      "Step: 7900, Loss: 0.0003, Accuracy:100.00%\n",
      "Step: 7900, Vali Loss: 0.0690, Vali Accuracy: 98.32%\n",
      "Training Finished, Loss: 0.0782, Accuracy: 97.99%\n"
     ]
    }
   ],
   "source": [
    "import tensorflow as tf\n",
    "from tensorflow.examples.tutorials.mnist import input_data\n",
    "mnist = input_data.read_data_sets('练习/MNIST_data', one_hot=True)\n",
    "\n",
    "x = tf.placeholder(tf.float32, shape=[None, 784])\n",
    "y_ = tf.placeholder(tf.float32, shape=[None, 10])\n",
    "\n",
    "\n",
    "#网络结构：\n",
    "layer1 = tf.layers.dense(inputs=x, \n",
    "                         units=512, \n",
    "                         activation=tf.nn.tanh,                        \n",
    "                         bias_initializer=tf.constant_initializer(0),\n",
    "                         kernel_initializer=tf.truncated_normal_initializer(stddev=0.1)\n",
    "                        )\n",
    "layer2 = tf.layers.dense(inputs=layer1, \n",
    "                         units=256, \n",
    "                         activation=tf.nn.tanh,                        \n",
    "                         bias_initializer=tf.constant_initializer(0),\n",
    "                         kernel_initializer=tf.truncated_normal_initializer(stddev=0.1)\n",
    "                        )\n",
    "layer3 = tf.layers.dense(inputs=layer2, \n",
    "                         units=128, \n",
    "                         activation=tf.nn.tanh,                        \n",
    "                         bias_initializer=tf.constant_initializer(0),\n",
    "                         kernel_initializer=tf.truncated_normal_initializer(stddev=0.1)\n",
    "                        )\n",
    "y = tf.layers.dense(inputs=layer3, \n",
    "                         units=10, \n",
    "                         activation=None,                        \n",
    "                         bias_initializer=tf.constant_initializer(0),\n",
    "                         kernel_initializer=tf.truncated_normal_initializer(stddev=0.1)\n",
    "                        )\n",
    "\n",
    "#loss\n",
    "loss = tf.reduce_mean(tf.nn.softmax_cross_entropy_with_logits(labels=y_, logits=y))\n",
    "train_step = tf.train.GradientDescentOptimizer(0.5).minimize(loss)\n",
    "#正确率\n",
    "softmax_result = tf.nn.softmax(y)\n",
    "pred = tf.argmax(softmax_result, axis=1)\n",
    "true = tf.argmax(y_, axis=1)\n",
    "accuracy = tf.reduce_mean(tf.cast(tf.equal(pred, true), tf.float32))\n",
    "#初始化\n",
    "sess = tf.InteractiveSession()\n",
    "init = tf.global_variables_initializer()\n",
    "sess.run(init)\n",
    "#训练\n",
    "\n",
    "for i in range(8000):\n",
    "    batch = mnist.train.next_batch(128)\n",
    "    _, loss_, acu = sess.run([train_step, loss, accuracy], {x: batch[0], y_: batch[1]})\n",
    "    if i % 100 == 0:\n",
    "        print(\"Step:{:>5}, Loss:{:>7.4f}, Accuracy:{:>7.2%}\".format(i, loss_, acu))\n",
    "        loss_, acu = sess.run([loss, accuracy], {x: mnist.validation.images, \n",
    "                                                 y_: mnist.validation.labels})\n",
    "        print(\"Step:{:>5}, Vali Loss:{:>7.4f}, Vali Accuracy:{:>7.2%}\".format(i, loss_, acu))\n",
    "loss_, acu = sess.run([loss, accuracy], {x: mnist.test.images, \n",
    "                                                        y_: mnist.test.labels})\n",
    "print(\"Training Finished, Loss:{:>7.4f}, Accuracy:{:>7.2%}\".format(loss_, acu))"
   ]
  },
  {
   "cell_type": "markdown",
   "metadata": {},
   "source": [
    "### 结果显示： 当训练到2000多步 训练准确率已经达到100%  后面出现了过拟合的现象"
   ]
  },
  {
   "cell_type": "markdown",
   "metadata": {
    "collapsed": true
   },
   "source": [
    "### 练习2--将练习1的改成线性分类（即不用激活函数）,查看训练效果（5分钟）"
   ]
  },
  {
   "cell_type": "code",
   "execution_count": 36,
   "metadata": {
    "scrolled": false
   },
   "outputs": [
    {
     "name": "stdout",
     "output_type": "stream",
     "text": [
      "Extracting 练习/MNIST_data/train-images-idx3-ubyte.gz\n",
      "Extracting 练习/MNIST_data/train-labels-idx1-ubyte.gz\n",
      "Extracting 练习/MNIST_data/t10k-images-idx3-ubyte.gz\n",
      "Extracting 练习/MNIST_data/t10k-labels-idx1-ubyte.gz\n",
      "Step:    0, Loss: 4.1660, Accuracy:  6.25%\n",
      "Step:    0, Vali Loss: 3.3025, Vali Accuracy: 15.54%\n",
      "Step:  100, Loss: 0.4624, Accuracy: 84.38%\n",
      "Step:  100, Vali Loss: 0.5027, Vali Accuracy: 85.20%\n",
      "Step:  200, Loss: 0.3178, Accuracy: 89.84%\n",
      "Step:  200, Vali Loss: 0.4103, Vali Accuracy: 87.70%\n",
      "Step:  300, Loss: 0.3410, Accuracy: 88.28%\n",
      "Step:  300, Vali Loss: 0.3765, Vali Accuracy: 89.02%\n",
      "Step:  400, Loss: 0.6054, Accuracy: 82.81%\n",
      "Step:  400, Vali Loss: 0.3510, Vali Accuracy: 90.10%\n",
      "Step:  500, Loss: 0.4260, Accuracy: 89.84%\n",
      "Step:  500, Vali Loss: 0.3405, Vali Accuracy: 90.10%\n",
      "Step:  600, Loss: 0.2753, Accuracy: 91.41%\n",
      "Step:  600, Vali Loss: 0.3329, Vali Accuracy: 90.52%\n",
      "Step:  700, Loss: 0.4117, Accuracy: 84.38%\n",
      "Step:  700, Vali Loss: 0.3216, Vali Accuracy: 91.02%\n",
      "Step:  800, Loss: 0.3335, Accuracy: 89.84%\n",
      "Step:  800, Vali Loss: 0.3200, Vali Accuracy: 90.94%\n",
      "Step:  900, Loss: 0.4881, Accuracy: 86.72%\n",
      "Step:  900, Vali Loss: 0.3108, Vali Accuracy: 91.28%\n",
      "Step: 1000, Loss: 0.2575, Accuracy: 93.75%\n",
      "Step: 1000, Vali Loss: 0.3098, Vali Accuracy: 91.06%\n",
      "Step: 1100, Loss: 0.2607, Accuracy: 92.19%\n",
      "Step: 1100, Vali Loss: 0.3071, Vali Accuracy: 91.48%\n",
      "Step: 1200, Loss: 0.4326, Accuracy: 89.06%\n",
      "Step: 1200, Vali Loss: 0.3037, Vali Accuracy: 91.40%\n",
      "Step: 1300, Loss: 0.4053, Accuracy: 85.94%\n",
      "Step: 1300, Vali Loss: 0.2986, Vali Accuracy: 91.72%\n",
      "Step: 1400, Loss: 0.2694, Accuracy: 90.62%\n",
      "Step: 1400, Vali Loss: 0.2962, Vali Accuracy: 91.84%\n",
      "Step: 1500, Loss: 0.4804, Accuracy: 90.62%\n",
      "Step: 1500, Vali Loss: 0.2941, Vali Accuracy: 91.96%\n",
      "Step: 1600, Loss: 0.2462, Accuracy: 92.19%\n",
      "Step: 1600, Vali Loss: 0.2937, Vali Accuracy: 91.92%\n",
      "Step: 1700, Loss: 0.3017, Accuracy: 89.84%\n",
      "Step: 1700, Vali Loss: 0.2953, Vali Accuracy: 91.88%\n",
      "Step: 1800, Loss: 0.2928, Accuracy: 91.41%\n",
      "Step: 1800, Vali Loss: 0.2916, Vali Accuracy: 92.12%\n",
      "Step: 1900, Loss: 0.2621, Accuracy: 90.62%\n",
      "Step: 1900, Vali Loss: 0.2865, Vali Accuracy: 92.30%\n",
      "Step: 2000, Loss: 0.4357, Accuracy: 89.06%\n",
      "Step: 2000, Vali Loss: 0.2879, Vali Accuracy: 92.06%\n",
      "Step: 2100, Loss: 0.2422, Accuracy: 92.19%\n",
      "Step: 2100, Vali Loss: 0.2922, Vali Accuracy: 91.98%\n",
      "Step: 2200, Loss: 0.3328, Accuracy: 89.06%\n",
      "Step: 2200, Vali Loss: 0.2840, Vali Accuracy: 92.24%\n",
      "Step: 2300, Loss: 0.3503, Accuracy: 89.06%\n",
      "Step: 2300, Vali Loss: 0.2883, Vali Accuracy: 91.82%\n",
      "Step: 2400, Loss: 0.3219, Accuracy: 93.75%\n",
      "Step: 2400, Vali Loss: 0.2854, Vali Accuracy: 92.26%\n",
      "Step: 2500, Loss: 0.2933, Accuracy: 93.75%\n",
      "Step: 2500, Vali Loss: 0.2832, Vali Accuracy: 92.44%\n",
      "Step: 2600, Loss: 0.2869, Accuracy: 92.19%\n",
      "Step: 2600, Vali Loss: 0.2806, Vali Accuracy: 92.20%\n",
      "Step: 2700, Loss: 0.3063, Accuracy: 93.75%\n",
      "Step: 2700, Vali Loss: 0.2790, Vali Accuracy: 92.36%\n",
      "Step: 2800, Loss: 0.2851, Accuracy: 90.62%\n",
      "Step: 2800, Vali Loss: 0.2866, Vali Accuracy: 91.88%\n",
      "Step: 2900, Loss: 0.4834, Accuracy: 89.06%\n",
      "Step: 2900, Vali Loss: 0.2789, Vali Accuracy: 92.32%\n",
      "Step: 3000, Loss: 0.3570, Accuracy: 89.84%\n",
      "Step: 3000, Vali Loss: 0.2787, Vali Accuracy: 92.62%\n",
      "Step: 3100, Loss: 0.2940, Accuracy: 92.97%\n",
      "Step: 3100, Vali Loss: 0.2824, Vali Accuracy: 92.10%\n",
      "Step: 3200, Loss: 0.3311, Accuracy: 91.41%\n",
      "Step: 3200, Vali Loss: 0.2781, Vali Accuracy: 92.26%\n",
      "Step: 3300, Loss: 0.3364, Accuracy: 92.19%\n",
      "Step: 3300, Vali Loss: 0.2830, Vali Accuracy: 92.20%\n",
      "Step: 3400, Loss: 0.2591, Accuracy: 93.75%\n",
      "Step: 3400, Vali Loss: 0.2751, Vali Accuracy: 92.48%\n",
      "Step: 3500, Loss: 0.2795, Accuracy: 89.84%\n",
      "Step: 3500, Vali Loss: 0.2784, Vali Accuracy: 92.24%\n",
      "Step: 3600, Loss: 0.2906, Accuracy: 92.19%\n",
      "Step: 3600, Vali Loss: 0.2777, Vali Accuracy: 92.30%\n",
      "Step: 3700, Loss: 0.3382, Accuracy: 92.19%\n",
      "Step: 3700, Vali Loss: 0.2801, Vali Accuracy: 92.26%\n",
      "Step: 3800, Loss: 0.2482, Accuracy: 93.75%\n",
      "Step: 3800, Vali Loss: 0.2749, Vali Accuracy: 92.40%\n",
      "Step: 3900, Loss: 0.2068, Accuracy: 93.75%\n",
      "Step: 3900, Vali Loss: 0.2754, Vali Accuracy: 92.28%\n",
      "Step: 4000, Loss: 0.2620, Accuracy: 91.41%\n",
      "Step: 4000, Vali Loss: 0.2792, Vali Accuracy: 92.28%\n",
      "Step: 4100, Loss: 0.2671, Accuracy: 91.41%\n",
      "Step: 4100, Vali Loss: 0.2759, Vali Accuracy: 92.44%\n",
      "Step: 4200, Loss: 0.0966, Accuracy: 96.88%\n",
      "Step: 4200, Vali Loss: 0.2765, Vali Accuracy: 92.40%\n",
      "Step: 4300, Loss: 0.2243, Accuracy: 92.19%\n",
      "Step: 4300, Vali Loss: 0.2716, Vali Accuracy: 92.80%\n",
      "Step: 4400, Loss: 0.1545, Accuracy: 96.09%\n",
      "Step: 4400, Vali Loss: 0.2736, Vali Accuracy: 92.58%\n",
      "Step: 4500, Loss: 0.2978, Accuracy: 92.97%\n",
      "Step: 4500, Vali Loss: 0.2732, Vali Accuracy: 92.60%\n",
      "Step: 4600, Loss: 0.3822, Accuracy: 89.06%\n",
      "Step: 4600, Vali Loss: 0.2728, Vali Accuracy: 92.74%\n",
      "Step: 4700, Loss: 0.3274, Accuracy: 89.84%\n",
      "Step: 4700, Vali Loss: 0.2726, Vali Accuracy: 92.40%\n",
      "Step: 4800, Loss: 0.3769, Accuracy: 89.06%\n",
      "Step: 4800, Vali Loss: 0.2784, Vali Accuracy: 92.12%\n",
      "Step: 4900, Loss: 0.2235, Accuracy: 94.53%\n",
      "Step: 4900, Vali Loss: 0.2740, Vali Accuracy: 92.44%\n",
      "Step: 5000, Loss: 0.3240, Accuracy: 92.19%\n",
      "Step: 5000, Vali Loss: 0.2765, Vali Accuracy: 92.26%\n",
      "Step: 5100, Loss: 0.2422, Accuracy: 93.75%\n",
      "Step: 5100, Vali Loss: 0.2712, Vali Accuracy: 92.62%\n",
      "Step: 5200, Loss: 0.2656, Accuracy: 92.97%\n",
      "Step: 5200, Vali Loss: 0.2723, Vali Accuracy: 92.62%\n",
      "Step: 5300, Loss: 0.1964, Accuracy: 94.53%\n",
      "Step: 5300, Vali Loss: 0.2771, Vali Accuracy: 92.26%\n",
      "Step: 5400, Loss: 0.2905, Accuracy: 91.41%\n",
      "Step: 5400, Vali Loss: 0.2751, Vali Accuracy: 92.22%\n",
      "Step: 5500, Loss: 0.1951, Accuracy: 93.75%\n",
      "Step: 5500, Vali Loss: 0.2706, Vali Accuracy: 92.62%\n",
      "Step: 5600, Loss: 0.2340, Accuracy: 92.19%\n",
      "Step: 5600, Vali Loss: 0.2735, Vali Accuracy: 92.34%\n",
      "Step: 5700, Loss: 0.1612, Accuracy: 96.09%\n",
      "Step: 5700, Vali Loss: 0.2702, Vali Accuracy: 92.66%\n",
      "Step: 5800, Loss: 0.2410, Accuracy: 91.41%\n",
      "Step: 5800, Vali Loss: 0.2700, Vali Accuracy: 92.52%\n",
      "Step: 5900, Loss: 0.3668, Accuracy: 90.62%\n",
      "Step: 5900, Vali Loss: 0.2714, Vali Accuracy: 92.36%\n",
      "Step: 6000, Loss: 0.2548, Accuracy: 93.75%\n",
      "Step: 6000, Vali Loss: 0.2715, Vali Accuracy: 92.56%\n",
      "Step: 6100, Loss: 0.1912, Accuracy: 92.97%\n",
      "Step: 6100, Vali Loss: 0.2696, Vali Accuracy: 92.36%\n",
      "Step: 6200, Loss: 0.3084, Accuracy: 90.62%\n",
      "Step: 6200, Vali Loss: 0.2736, Vali Accuracy: 92.36%\n",
      "Step: 6300, Loss: 0.4240, Accuracy: 90.62%\n",
      "Step: 6300, Vali Loss: 0.2690, Vali Accuracy: 92.56%\n",
      "Step: 6400, Loss: 0.3147, Accuracy: 91.41%\n",
      "Step: 6400, Vali Loss: 0.2677, Vali Accuracy: 92.56%\n",
      "Step: 6500, Loss: 0.2590, Accuracy: 92.97%\n",
      "Step: 6500, Vali Loss: 0.2682, Vali Accuracy: 92.84%\n",
      "Step: 6600, Loss: 0.3101, Accuracy: 92.19%\n",
      "Step: 6600, Vali Loss: 0.2726, Vali Accuracy: 92.24%\n",
      "Step: 6700, Loss: 0.4622, Accuracy: 90.62%\n",
      "Step: 6700, Vali Loss: 0.2727, Vali Accuracy: 92.04%\n",
      "Step: 6800, Loss: 0.2730, Accuracy: 92.97%\n",
      "Step: 6800, Vali Loss: 0.2691, Vali Accuracy: 92.48%\n",
      "Step: 6900, Loss: 0.2711, Accuracy: 92.19%\n",
      "Step: 6900, Vali Loss: 0.2706, Vali Accuracy: 92.54%\n",
      "Step: 7000, Loss: 0.2120, Accuracy: 94.53%\n",
      "Step: 7000, Vali Loss: 0.2671, Vali Accuracy: 92.48%\n",
      "Step: 7100, Loss: 0.1600, Accuracy: 96.09%\n",
      "Step: 7100, Vali Loss: 0.2686, Vali Accuracy: 92.48%\n",
      "Step: 7200, Loss: 0.2740, Accuracy: 92.97%\n",
      "Step: 7200, Vali Loss: 0.2684, Vali Accuracy: 92.76%\n",
      "Step: 7300, Loss: 0.2158, Accuracy: 92.97%\n",
      "Step: 7300, Vali Loss: 0.2732, Vali Accuracy: 92.46%\n",
      "Step: 7400, Loss: 0.4277, Accuracy: 92.19%\n",
      "Step: 7400, Vali Loss: 0.2724, Vali Accuracy: 92.68%\n",
      "Step: 7500, Loss: 0.1759, Accuracy: 94.53%\n",
      "Step: 7500, Vali Loss: 0.2685, Vali Accuracy: 92.60%\n",
      "Step: 7600, Loss: 0.2773, Accuracy: 90.62%\n",
      "Step: 7600, Vali Loss: 0.2677, Vali Accuracy: 92.64%\n",
      "Step: 7700, Loss: 0.3041, Accuracy: 89.06%\n",
      "Step: 7700, Vali Loss: 0.2680, Vali Accuracy: 92.60%\n",
      "Step: 7800, Loss: 0.2134, Accuracy: 92.19%\n",
      "Step: 7800, Vali Loss: 0.2668, Vali Accuracy: 92.62%\n",
      "Step: 7900, Loss: 0.2203, Accuracy: 93.75%\n",
      "Step: 7900, Vali Loss: 0.2670, Vali Accuracy: 92.62%\n",
      "Training Finished, Loss: 0.2775, Accuracy: 92.12%\n"
     ]
    }
   ],
   "source": [
    "import tensorflow as tf\n",
    "from tensorflow.examples.tutorials.mnist import input_data\n",
    "mnist = input_data.read_data_sets('练习/MNIST_data', one_hot=True)\n",
    "\n",
    "x = tf.placeholder(tf.float32, shape=[None, 784])\n",
    "y_ = tf.placeholder(tf.float32, shape=[None, 10])\n",
    "\n",
    "\n",
    "#网络结构：\n",
    "layer1 = tf.layers.dense(inputs=x, \n",
    "                         units=512, \n",
    "                         activation=None,                        \n",
    "                         bias_initializer=tf.constant_initializer(0),\n",
    "                         kernel_initializer=tf.truncated_normal_initializer(stddev=0.1)\n",
    "                        )\n",
    "layer2 = tf.layers.dense(inputs=layer1, \n",
    "                         units=256, \n",
    "                         activation=None,                        \n",
    "                         bias_initializer=tf.constant_initializer(0),\n",
    "                         kernel_initializer=tf.truncated_normal_initializer(stddev=0.1)\n",
    "                        )\n",
    "layer3 = tf.layers.dense(inputs=layer2, \n",
    "                         units=128, \n",
    "                         activation=None,                        \n",
    "                         bias_initializer=tf.constant_initializer(0),\n",
    "                         kernel_initializer=tf.truncated_normal_initializer(stddev=0.1)\n",
    "                        )\n",
    "y = tf.layers.dense(inputs=layer3, \n",
    "                         units=10, \n",
    "                         activation=None,                        \n",
    "                         bias_initializer=tf.constant_initializer(0),\n",
    "                         kernel_initializer=tf.truncated_normal_initializer(stddev=0.1)\n",
    "                        )\n",
    "\n",
    "#loss\n",
    "loss = tf.reduce_mean(tf.nn.softmax_cross_entropy_with_logits(labels=y_, logits=y))\n",
    "train_step = tf.train.GradientDescentOptimizer(0.01).minimize(loss)\n",
    "#正确率\n",
    "softmax_result = tf.nn.softmax(y)\n",
    "pred = tf.argmax(softmax_result, axis=1)\n",
    "true = tf.argmax(y_, axis=1)\n",
    "accuracy = tf.reduce_mean(tf.cast(tf.equal(pred, true), tf.float32))\n",
    "#初始化\n",
    "sess = tf.InteractiveSession()\n",
    "init = tf.global_variables_initializer()\n",
    "sess.run(init)\n",
    "#训练\n",
    "\n",
    "for i in range(8000):\n",
    "    batch = mnist.train.next_batch(128)\n",
    "    _, loss_, acu = sess.run([train_step, loss, accuracy], {x: batch[0], y_: batch[1]})\n",
    "    if i % 100 == 0:\n",
    "        print(\"Step:{:>5}, Loss:{:>7.4f}, Accuracy:{:>7.2%}\".format(i, loss_, acu))\n",
    "        loss_, acu = sess.run([loss, accuracy], {x: mnist.validation.images, \n",
    "                                                 y_: mnist.validation.labels})\n",
    "        print(\"Step:{:>5}, Vali Loss:{:>7.4f}, Vali Accuracy:{:>7.2%}\".format(i, loss_, acu))\n",
    "loss_, acu = sess.run([loss, accuracy], {x: mnist.test.images, \n",
    "                                                        y_: mnist.test.labels})\n",
    "print(\"Training Finished, Loss:{:>7.4f}, Accuracy:{:>7.2%}\".format(loss_, acu))"
   ]
  },
  {
   "cell_type": "markdown",
   "metadata": {
    "collapsed": true
   },
   "source": [
    "### 练习3--将练习1改成一般的graph 结构，并保存模型，然后用tensorboard 查看loss 和accuracy曲线（30分钟）"
   ]
  },
  {
   "cell_type": "code",
   "execution_count": null,
   "metadata": {},
   "outputs": [],
   "source": []
  },
  {
   "cell_type": "code",
   "execution_count": 42,
   "metadata": {},
   "outputs": [
    {
     "name": "stdout",
     "output_type": "stream",
     "text": [
      "Extracting 练习/MNIST_data/train-images-idx3-ubyte.gz\n",
      "Extracting 练习/MNIST_data/train-labels-idx1-ubyte.gz\n",
      "Extracting 练习/MNIST_data/t10k-images-idx3-ubyte.gz\n",
      "Extracting 练习/MNIST_data/t10k-labels-idx1-ubyte.gz\n"
     ]
    }
   ],
   "source": [
    "import tensorflow as tf\n",
    "import PIL.Image as img\n",
    "import numpy as np\n",
    "from tensorflow.examples.tutorials.mnist import input_data\n",
    "mnist = input_data.read_data_sets('练习/MNIST_data', one_hot=True)"
   ]
  },
  {
   "cell_type": "code",
   "execution_count": 43,
   "metadata": {},
   "outputs": [],
   "source": [
    "graph = tf.Graph()\n",
    "with graph.as_default():\n",
    "    x = tf.placeholder(tf.float32, shape=[None, 784], name='x')\n",
    "    y_ = tf.placeholder(tf.float32, shape=[None, 10], name='y')\n",
    "    with tf.name_scope('hidden_layers'):\n",
    "        layer1 = tf.layers.dense(inputs=x, \n",
    "                                 units=512, \n",
    "                                 activation=tf.nn.tanh,                        \n",
    "                                 bias_initializer=tf.constant_initializer(0),\n",
    "                                 kernel_initializer=tf.truncated_normal_initializer(stddev=0.1),\n",
    "                                 name='l1'\n",
    "                                )\n",
    "        layer2 = tf.layers.dense(inputs=layer1, \n",
    "                                 units=256, \n",
    "                                 activation=tf.nn.tanh,                        \n",
    "                                 bias_initializer=tf.constant_initializer(0),\n",
    "                                 kernel_initializer=tf.truncated_normal_initializer(stddev=0.1),\n",
    "                                 name='l2'\n",
    "                                )\n",
    "        layer3 = tf.layers.dense(inputs=layer2, \n",
    "                                 units=128, \n",
    "                                 activation=tf.nn.tanh,                        \n",
    "                                 bias_initializer=tf.constant_initializer(0),\n",
    "                                 kernel_initializer=tf.truncated_normal_initializer(stddev=0.1),\n",
    "                                 name='l3'\n",
    "                                )\n",
    "    with tf.name_scope(\"fully_connected\"):\n",
    "        y = tf.layers.dense(inputs=layer3, \n",
    "                            units=10, \n",
    "                            activation=None, \n",
    "                            bias_initializer=tf.constant_initializer(0), \n",
    "                            kernel_initializer=tf.truncated_normal_initializer(stddev=0.1),\n",
    "                            name='dense'\n",
    "                           )\n",
    "    with tf.name_scope(\"cal_loss\"):\n",
    "        loss = tf.reduce_mean(tf.nn.softmax_cross_entropy_with_logits(labels=y_, logits=y))\n",
    "    with tf.name_scope(\"train\"):\n",
    "        train_step = tf.train.GradientDescentOptimizer(0.5).minimize(loss)\n",
    "    with tf.name_scope(\"cal_accuracy\"):\n",
    "        softmax_result = tf.nn.softmax(y)\n",
    "        pred = tf.argmax(softmax_result, axis=1)\n",
    "        true = tf.argmax(y_, axis=1)\n",
    "        accuracy = tf.reduce_mean(tf.cast(tf.equal(pred, true), tf.float32))\n",
    "    tf.summary.scalar('loss', loss)\n",
    "    tf.summary.scalar('accuracy', accuracy)"
   ]
  },
  {
   "cell_type": "code",
   "execution_count": 44,
   "metadata": {},
   "outputs": [
    {
     "name": "stdout",
     "output_type": "stream",
     "text": [
      "[6]\n",
      "Training Finished, Loss: 0.0900, Accuracy: 97.01%\n"
     ]
    }
   ],
   "source": [
    "with tf.Session(graph=graph) as sess:\n",
    "    init = tf.global_variables_initializer()\n",
    "    sess.run(init)\n",
    "    merged = tf.summary.merge_all()\n",
    "    # 定义filewriter\n",
    "    writer_train = tf.summary.FileWriter('./tmp/train', graph=graph)\n",
    "    writer_vali = tf.summary.FileWriter('./tmp/vali')\n",
    "    # 定义saver\n",
    "    saver = tf.train.Saver()\n",
    "    for i in range(1000):\n",
    "        batch = mnist.train.next_batch(128)\n",
    "        _, mgd = sess.run([train_step, merged], {x:batch[0],\n",
    "                                                 y_:batch[1]\n",
    "                                                })\n",
    "        writer_train.add_summary(mgd, global_step=i)\n",
    "        mgd = sess.run(merged, {x: mnist.validation.images,\n",
    "                                              y_: mnist.validation.labels\n",
    "                                                })\n",
    "        writer_vali.add_summary(mgd, global_step=i)\n",
    "    loss_, acu = sess.run([loss, accuracy], {x: mnist.test.images, \n",
    "                                            y_: mnist.test.labels})\n",
    "    im = np.array(img.open('练习/test_img/6/mnist_test_21.png').convert('L').resize((28, 28)))\n",
    "    tva = np.reshape(im / 255., 784)\n",
    "    print(sess.run(pred,feed_dict={x:[tva]}))\n",
    "    print(\"Training Finished, Loss:{:>7.4f}, Accuracy:{:>7.2%}\".format(loss_, acu))\n",
    "    saver.save(sess, './tmp/model.ckpt')\n",
    "\n",
    "  \n",
    "        "
   ]
  },
  {
   "cell_type": "markdown",
   "metadata": {},
   "source": [
    "## 调用生成的模型文件测试模型 下午讲 "
   ]
  },
  {
   "cell_type": "code",
   "execution_count": 45,
   "metadata": {},
   "outputs": [],
   "source": [
    "import PIL.Image as img\n",
    "import numpy as np\n",
    "t = img.open('练习/test_img/6/mnist_test_21.png')\n",
    "test = np.array(t.convert('L').resize((28, 28))) # 转成灰度图"
   ]
  },
  {
   "cell_type": "code",
   "execution_count": 46,
   "metadata": {},
   "outputs": [],
   "source": [
    "test = np.reshape(test / 255., 784)\n"
   ]
  },
  {
   "cell_type": "code",
   "execution_count": 47,
   "metadata": {
    "scrolled": true
   },
   "outputs": [
    {
     "name": "stdout",
     "output_type": "stream",
     "text": [
      "INFO:tensorflow:Restoring parameters from ./tmp/model.ckpt\n",
      "[6]\n",
      "prediction result 6\n"
     ]
    }
   ],
   "source": [
    "with tf.Session(graph=graph) as sess:\n",
    "    saver.restore(sess, './tmp/model.ckpt')\n",
    "    p = sess.run(pred, {x: [test]})\n",
    "    print(p)\n",
    "    print(\"prediction result{:>2}\".format(p[0]))"
   ]
  },
  {
   "cell_type": "code",
   "execution_count": 48,
   "metadata": {},
   "outputs": [
    {
     "data": {
      "image/png": "[encoded data removed]",
      "text/plain": [
       "<PIL.Image.Image image mode=RGB size=28x28 at 0x123F7D7B8>"
      ]
     },
     "execution_count": 48,
     "metadata": {},
     "output_type": "execute_result"
    }
   ],
   "source": [
    "t.convert('RGB').resize((28, 28))"
   ]
  },
  {
   "cell_type": "code",
   "execution_count": null,
   "metadata": {
    "collapsed": true
   },
   "outputs": [],
   "source": []
  }
 ],
 "metadata": {
  "kernelspec": {
   "display_name": "Python 3",
   "language": "python",
   "name": "python3"
  },
  "language_info": {
   "codemirror_mode": {
    "name": "ipython",
    "version": 3
   },
   "file_extension": ".py",
   "mimetype": "text/x-python",
   "name": "python",
   "nbconvert_exporter": "python",
   "pygments_lexer": "ipython3",
   "version": "3.6.4"
  }
 },
 "nbformat": 4,
 "nbformat_minor": 2
}
