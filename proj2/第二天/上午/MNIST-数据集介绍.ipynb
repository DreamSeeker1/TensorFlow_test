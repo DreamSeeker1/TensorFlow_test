{
 "cells": [
  {
   "cell_type": "markdown",
   "metadata": {},
   "source": [
    "## MNIST 数据集处理"
   ]
  },
  {
   "cell_type": "code",
   "execution_count": 17,
   "metadata": {},
   "outputs": [
    {
     "name": "stderr",
     "output_type": "stream",
     "text": [
      "IOPub data rate exceeded.\n",
      "The notebook server will temporarily stop sending output\n",
      "to the client in order to avoid crashing it.\n",
      "To change this limit, set the config variable\n",
      "`--NotebookApp.iopub_data_rate_limit`.\n",
      "\n",
      "Current values:\n",
      "NotebookApp.iopub_data_rate_limit=1000000.0 (bytes/sec)\n",
      "NotebookApp.rate_limit_window=3.0 (secs)\n",
      "\n"
     ]
    }
   ],
   "source": [
    "import struct\n",
    "import numpy as np\n",
    "# 读取图片信息\n",
    "with open('../MNIST_data/t10k-images.idx3-ubyte', 'rb') as f:\n",
    "    f.seek(16)\n",
    "    content = f.read()\n",
    "    pics = struct.unpack(\"{}B\".format(len(content)), content)\n",
    "\n",
    "# 读取标签\n",
    "with open('../MNIST_data/t10k-labels.idx1-ubyte', 'rb') as f:\n",
    "    f.seek(8)\n",
    "    content = f.read()\n",
    "    #print(labels)\n",
    "    labels = struct.unpack(\"{}B\".format(len(content)), content)\n",
    "    #print(labels)\n"
   ]
  },
  {
   "cell_type": "code",
   "execution_count": 8,
   "metadata": {},
   "outputs": [
    {
     "name": "stdout",
     "output_type": "stream",
     "text": [
      "[7 2 1 ... 4 5 6]\n",
      "[7 2 1 ... 4 5 6]\n"
     ]
    }
   ],
   "source": [
    "# reshape，变成 np.array\n",
    "pics = np.reshape(pics, (-1, 28, 28))\n",
    "#print (pics)\n",
    "print(labels)\n",
    "labels = np.array(labels)\n",
    "print(labels)"
   ]
  },
  {
   "cell_type": "code",
   "execution_count": 5,
   "metadata": {},
   "outputs": [
    {
     "data": {
      "image/png": "[encoded data removed]",
      "text/plain": [
       "<matplotlib.figure.Figure at 0x108af9518>"
      ]
     },
     "metadata": {},
     "output_type": "display_data"
    },
    {
     "name": "stdout",
     "output_type": "stream",
     "text": [
      "label: 7\n"
     ]
    }
   ],
   "source": [
    "# 展示第一张图片\n",
    "import matplotlib.pyplot as plt\n",
    "%matplotlib inline\n",
    "plt.imshow(pics[3])\n",
    "plt.gray()\n",
    "plt.show()\n",
    "\n",
    "print('label: {}'.format(labels[0]))"
   ]
  },
  {
   "cell_type": "markdown",
   "metadata": {},
   "source": [
    "### one-hot embedding\n",
    "将标签映射到对应向量， 7 -> [ 0.,  0.,  0.,  0.,  0.,  0.,  0.,  1.,  0.,  0.]\n",
    "### 练习1 (10分钟)：\n",
    "写一个函数将输入的标签变成one-hot embedding"
   ]
  },
  {
   "cell_type": "code",
   "execution_count": 19,
   "metadata": {},
   "outputs": [],
   "source": [
    "def to_one_hot(labels):\n",
    "    \"\"\"将输入的标签数据进行one-hot embedding\n",
    "    Args:\n",
    "        labels: 输入标签\n",
    "    Returns:\n",
    "        res: one-hot embedding 后的结果，每一行对应一个标签\n",
    "    \"\"\"\n",
    "    l = len(labels)\n",
    "    res = np.zeros((l, 10), dtype=np.float32)\n",
    "    for i in range(l):\n",
    "        res[i][labels[i]] = 1.\n",
    "    return res"
   ]
  },
  {
   "cell_type": "code",
   "execution_count": 20,
   "metadata": {},
   "outputs": [],
   "source": [
    "one_hot = to_one_hot(labels)"
   ]
  },
  {
   "cell_type": "code",
   "execution_count": 25,
   "metadata": {},
   "outputs": [
    {
     "data": {
      "text/plain": [
       "array([0., 1., 0., 0., 0., 0., 0., 0., 0., 0.], dtype=float32)"
      ]
     },
     "execution_count": 25,
     "metadata": {},
     "output_type": "execute_result"
    }
   ],
   "source": [
    "one_hot[2]"
   ]
  },
  {
   "cell_type": "markdown",
   "metadata": {},
   "source": [
    "### 练习2（2分钟）：\n",
    "将pics的值变为0-1之间的一个浮点数"
   ]
  },
  {
   "cell_type": "code",
   "execution_count": null,
   "metadata": {},
   "outputs": [],
   "source": [
    "pics = pics / 255."
   ]
  },
  {
   "cell_type": "markdown",
   "metadata": {},
   "source": [
    "### 练习3（15分钟）：\n",
    "编写一个生成器，根据输入的batch-size，生成对应的mini batch"
   ]
  },
  {
   "cell_type": "code",
   "execution_count": null,
   "metadata": {},
   "outputs": [],
   "source": [
    "def gen_batch(labels, pics, batch_size):\n",
    "    \"\"\"\n",
    "    输入图片与标签数据，根据设置的batch_size生成mini-batch\n",
    "    Args:\n",
    "        labels: 标签数据，one-hot格式\n",
    "        pics: 图片数据\n",
    "        batch_size: 设置的batch大小\n",
    "    Yields:\n",
    "        生成的mini-batch\n",
    "    \"\"\"\n",
    "    pos = 0\n",
    "    for i in range(len(labels) // batch_size):\n",
    "        yield pics[pos:pos + batch_size], labels[pos:pos + batch_size]\n",
    "        pos += batch_size\n",
    "    remain  = len(labels) % batch_size\n",
    "    if remain != 0:\n",
    "        yield pics[-remain:], labels[-remain:]"
   ]
  },
  {
   "cell_type": "code",
   "execution_count": null,
   "metadata": {},
   "outputs": [],
   "source": [
    "for x, y in gen_batch(one_hot, pics, 2):\n",
    "    print(x)\n",
    "    print(y)\n",
    "    plt.imshow(x[0] * 255)\n",
    "    plt.show()\n",
    "    break"
   ]
  },
  {
   "cell_type": "code",
   "execution_count": null,
   "metadata": {},
   "outputs": [],
   "source": []
  }
 ],
 "metadata": {
  "kernelspec": {
   "display_name": "Python 3",
   "language": "python",
   "name": "python3"
  },
  "language_info": {
   "codemirror_mode": {
    "name": "ipython",
    "version": 3
   },
   "file_extension": ".py",
   "mimetype": "text/x-python",
   "name": "python",
   "nbconvert_exporter": "python",
   "pygments_lexer": "ipython3",
   "version": "3.6.4"
  }
 },
 "nbformat": 4,
 "nbformat_minor": 2
}
