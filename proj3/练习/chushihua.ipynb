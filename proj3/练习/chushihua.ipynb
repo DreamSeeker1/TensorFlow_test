{
 "cells": [
  {
   "cell_type": "markdown",
   "metadata": {},
   "source": [
    "# 练习---参数初试化方式对训练结果的影响"
   ]
  },
  {
   "cell_type": "code",
   "execution_count": 1,
   "metadata": {},
   "outputs": [
    {
     "name": "stderr",
     "output_type": "stream",
     "text": [
      "/Users/liuyanfang/anaconda3/envs/tensorflow1.4/lib/python3.6/importlib/_bootstrap.py:219: RuntimeWarning: compiletime version 3.5 of module 'tensorflow.python.framework.fast_tensor_util' does not match runtime version 3.6\n",
      "  return f(*args, **kwds)\n"
     ]
    },
    {
     "name": "stdout",
     "output_type": "stream",
     "text": [
      "Extracting ../MNIST_data/train-images-idx3-ubyte.gz\n",
      "Extracting ../MNIST_data/train-labels-idx1-ubyte.gz\n",
      "Extracting ../MNIST_data/t10k-images-idx3-ubyte.gz\n",
      "Extracting ../MNIST_data/t10k-labels-idx1-ubyte.gz\n"
     ]
    }
   ],
   "source": [
    "import tensorflow as tf\n",
    "from tensorflow.examples.tutorials.mnist import input_data\n",
    "mnist = input_data.read_data_sets('../MNIST_data', one_hot=True)"
   ]
  },
  {
   "cell_type": "code",
   "execution_count": 2,
   "metadata": {},
   "outputs": [],
   "source": [
    "x = tf.placeholder(tf.float32, shape=[None, 784])\n",
    "y_ = tf.placeholder(tf.float32, shape=[None, 10])"
   ]
  },
  {
   "cell_type": "markdown",
   "metadata": {},
   "source": [
    "# tanh权重初始化不同"
   ]
  },
  {
   "cell_type": "code",
   "execution_count": 4,
   "metadata": {},
   "outputs": [],
   "source": [
    "#W1 = tf.Variable(tf.zeros(shape=[784, 512]))\n",
    "#W1 = tf.Variable(tf.ones(shape=[784, 512]))\n",
    "W1 = tf.Variable(tf.truncated_normal([784, 512], mean=0., stddev=0.1))\n",
    "b1 = tf.Variable(tf.zeros([512]))\n",
    "layer1 = tf.nn.tanh(tf.matmul(x, W1) + b1)\n",
    "#W2 = tf.Variable(tf.zeros(shape=[512 ,256]))\n",
    "#W2 = tf.Variable(tf.ones(shape=[512 ,256))\n",
    "W2 = tf.Variable(tf.truncated_normal([512, 256], mean=0., stddev=0.1))\n",
    "b2 = tf.Variable(tf.zeros([256]))\n",
    "layer2 = tf.nn.tanh(tf.matmul(layer1, W2) + b2 )\n",
    "#W = tf.Variable(tf.zeros(shape=[256 ,10]))\n",
    "#W = tf.Variable(tf.ones(shape=[256 ,10]))\n",
    "W = tf.Variable(tf.truncated_normal([256, 10], mean=0., stddev=0.1))\n",
    "b = tf.Variable(tf.zeros([10]))\n",
    "y = tf.matmul(layer2, W) + b"
   ]
  },
  {
   "cell_type": "markdown",
   "metadata": {},
   "source": [
    "# relu权重初始化不同"
   ]
  },
  {
   "cell_type": "code",
   "execution_count": 4,
   "metadata": {},
   "outputs": [],
   "source": [
    "#W1 = tf.Variable(tf.zeros(shape=[784, 512]))\n",
    "W1 = tf.Variable(tf.ones(shape=[784, 512]))\n",
    "#W1 = tf.Variable(tf.truncated_normal([784, 512], mean=0., stddev=0.1))\n",
    "b1 = tf.Variable(tf.zeros([512]))\n",
    "layer1 = tf.nn.relu(tf.matmul(x, W1) + b1)\n",
    "#W2 = tf.Variable(tf.zeros(shape=[512 ,256]))\n",
    "W2 = tf.Variable(tf.ones(shape=[512 ,256]))\n",
    "#W2 = tf.Variable(tf.truncated_normal([512, 256], mean=0., stddev=0.1))\n",
    "b2 = tf.Variable(tf.zeros([256]))\n",
    "layer2 = tf.nn.relu(tf.matmul(layer1, W2) + b2 )\n",
    "#W = tf.Variable(tf.zeros(shape=[256 ,10]))\n",
    "W = tf.Variable(tf.ones(shape=[256 ,10]))\n",
    "#W = tf.Variable(tf.truncated_normal([256, 10], mean=0., stddev=0.1))\n",
    "b = tf.Variable(tf.zeros([10]))\n",
    "y = tf.matmul(layer2, W) + b"
   ]
  },
  {
   "cell_type": "markdown",
   "metadata": {},
   "source": [
    "# sigmoid权重初始化不同"
   ]
  },
  {
   "cell_type": "code",
   "execution_count": 15,
   "metadata": {
    "collapsed": true
   },
   "outputs": [],
   "source": [
    "#W1 = tf.Variable(tf.zeros(shape=[784, 512]))\n",
    "#W1 = tf.Variable(tf.ones(shape=[784, 512]))\n",
    "W1 = tf.Variable(tf.truncated_normal([784, 512], mean=0., stddev=0.1))\n",
    "b1 = tf.Variable(tf.zeros([512]))\n",
    "layer1 = tf.nn.sigmoid(tf.matmul(x, W1) + b1)\n",
    "#W2 = tf.Variable(tf.zeros(shape=[512 ,256]))\n",
    "#W2 = tf.Variable(tf.ones(shape=[512 ,256))\n",
    "W2 = tf.Variable(tf.truncated_normal([512, 256], mean=0., stddev=0.1))\n",
    "b2 = tf.Variable(tf.zeros([256]))\n",
    "layer2 = tf.nn.sigmoid(tf.matmul(layer1, W2) + b2 )\n",
    "#W = tf.Variable(tf.zeros(shape=[256 ,10]))\n",
    "#W = tf.Variable(tf.ones(shape=[256 ,10]))\n",
    "W = tf.Variable(tf.truncated_normal([256, 10], mean=0., stddev=0.1))\n",
    "b = tf.Variable(tf.zeros([10]))\n",
    "y = tf.matmul(layer2, W) + b"
   ]
  },
  {
   "cell_type": "code",
   "execution_count": 5,
   "metadata": {},
   "outputs": [],
   "source": [
    "loss = tf.reduce_mean(tf.nn.softmax_cross_entropy_with_logits(labels=y_, logits=y))\n",
    "train_step = tf.train.GradientDescentOptimizer(0.5).minimize(loss)\n",
    "softmax_result = tf.nn.softmax(y)\n",
    "pred = tf.argmax(softmax_result, axis=1)\n",
    "true = tf.argmax(y_, axis=1)\n",
    "accuracy = tf.reduce_mean(tf.cast(tf.equal(pred, true), tf.float32))"
   ]
  },
  {
   "cell_type": "code",
   "execution_count": 6,
   "metadata": {},
   "outputs": [],
   "source": [
    "sess = tf.InteractiveSession()\n",
    "init = tf.global_variables_initializer()\n",
    "sess.run(init)"
   ]
  },
  {
   "cell_type": "markdown",
   "metadata": {},
   "source": [
    "relu zero 训练结果"
   ]
  },
  {
   "cell_type": "code",
   "execution_count": 6,
   "metadata": {},
   "outputs": [
    {
     "name": "stdout",
     "output_type": "stream",
     "text": [
      "Step:    0, Loss: 2.3026, Accuracy: 14.84%\n",
      "Step:  100, Loss: 2.2934, Accuracy: 12.50%\n",
      "Step:  200, Loss: 2.3051, Accuracy:  8.59%\n",
      "Step:  300, Loss: 2.2996, Accuracy:  7.03%\n",
      "Step:  400, Loss: 2.3017, Accuracy:  7.81%\n",
      "Step:  500, Loss: 2.3007, Accuracy: 10.94%\n",
      "Step:  600, Loss: 2.2985, Accuracy: 12.50%\n",
      "Step:  700, Loss: 2.2983, Accuracy: 10.16%\n",
      "Step:  800, Loss: 2.3123, Accuracy:  3.91%\n",
      "Step:  900, Loss: 2.3056, Accuracy: 10.16%\n",
      "Step: 1000, Loss: 2.2978, Accuracy: 14.06%\n",
      "Step: 1100, Loss: 2.3072, Accuracy:  9.38%\n",
      "Step: 1200, Loss: 2.2928, Accuracy: 10.16%\n",
      "Step: 1300, Loss: 2.2993, Accuracy: 14.84%\n",
      "Step: 1400, Loss: 2.3049, Accuracy:  7.81%\n",
      "Step: 1500, Loss: 2.3079, Accuracy:  8.59%\n",
      "Step: 1600, Loss: 2.3060, Accuracy:  7.03%\n",
      "Step: 1700, Loss: 2.2986, Accuracy: 12.50%\n",
      "Step: 1800, Loss: 2.3052, Accuracy: 10.16%\n",
      "Step: 1900, Loss: 2.3084, Accuracy:  9.38%\n",
      "Training Finished, Loss: 2.3021, Accuracy: 10.28%\n"
     ]
    }
   ],
   "source": [
    "# relu zero\n",
    "for i in range(2000):\n",
    "    batch = mnist.train.next_batch(128)\n",
    "    _, loss_, acu = sess.run([train_step, loss, accuracy], {x: batch[0], y_: batch[1]})\n",
    "    if i % 100 == 0:\n",
    "        print(\"Step:{:>5}, Loss:{:>7.4f}, Accuracy:{:>7.2%}\".format(i, loss_, acu))\n",
    "loss_, acu = sess.run([loss, accuracy], {x: mnist.test.images, \n",
    "                                        y_: mnist.test.labels})\n",
    "print(\"Training Finished, Loss:{:>7.4f}, Accuracy:{:>7.2%}\".format(loss_, acu))"
   ]
  },
  {
   "cell_type": "markdown",
   "metadata": {},
   "source": [
    "relu ones 训练结果"
   ]
  },
  {
   "cell_type": "code",
   "execution_count": 7,
   "metadata": {},
   "outputs": [
    {
     "name": "stdout",
     "output_type": "stream",
     "text": [
      "Step:    0, Loss: 7.7090, Accuracy:  8.59%\n",
      "Step:  100, Loss: 2.3075, Accuracy: 13.28%\n",
      "Step:  200, Loss: 2.2934, Accuracy: 14.06%\n",
      "Step:  300, Loss: 2.3119, Accuracy:  7.03%\n",
      "Step:  400, Loss: 2.3044, Accuracy:  9.38%\n",
      "Step:  500, Loss: 2.3019, Accuracy:  9.38%\n",
      "Step:  600, Loss: 2.3025, Accuracy:  7.81%\n",
      "Step:  700, Loss: 2.3014, Accuracy: 12.50%\n",
      "Step:  800, Loss: 2.3172, Accuracy:  5.47%\n",
      "Step:  900, Loss: 2.3018, Accuracy:  9.38%\n",
      "Step: 1000, Loss: 2.3019, Accuracy: 10.16%\n",
      "Step: 1100, Loss: 2.3104, Accuracy:  5.47%\n",
      "Step: 1200, Loss: 2.2970, Accuracy: 15.62%\n",
      "Step: 1300, Loss: 2.3125, Accuracy:  8.59%\n",
      "Step: 1400, Loss: 2.3015, Accuracy:  8.59%\n",
      "Step: 1500, Loss: 2.3037, Accuracy: 10.94%\n",
      "Step: 1600, Loss: 2.3106, Accuracy: 12.50%\n",
      "Step: 1700, Loss: 2.2959, Accuracy: 12.50%\n",
      "Step: 1800, Loss: 2.3139, Accuracy:  7.03%\n",
      "Step: 1900, Loss: 2.3024, Accuracy: 17.19%\n",
      "Training Finished, Loss: 2.3025, Accuracy:  9.80%\n"
     ]
    }
   ],
   "source": [
    "# relu ones\n",
    "for i in range(2000):\n",
    "    batch = mnist.train.next_batch(128)\n",
    "    _, loss_, acu = sess.run([train_step, loss, accuracy], {x: batch[0], y_: batch[1]})\n",
    "    if i % 100 == 0:\n",
    "        print(\"Step:{:>5}, Loss:{:>7.4f}, Accuracy:{:>7.2%}\".format(i, loss_, acu))\n",
    "loss_, acu = sess.run([loss, accuracy], {x: mnist.test.images, \n",
    "                                        y_: mnist.test.labels})\n",
    "print(\"Training Finished, Loss:{:>7.4f}, Accuracy:{:>7.2%}\".format(loss_, acu))"
   ]
  },
  {
   "cell_type": "markdown",
   "metadata": {},
   "source": [
    "tanh truncated_normal训练结果"
   ]
  },
  {
   "cell_type": "code",
   "execution_count": 6,
   "metadata": {},
   "outputs": [
    {
     "name": "stdout",
     "output_type": "stream",
     "text": [
      "Step:    0, Loss: 2.6181, Accuracy: 11.72%\n",
      "Step:  100, Loss: 0.3172, Accuracy: 88.28%\n",
      "Step:  200, Loss: 0.1302, Accuracy: 97.66%\n",
      "Step:  300, Loss: 0.1562, Accuracy: 94.53%\n",
      "Step:  400, Loss: 0.0964, Accuracy: 94.53%\n",
      "Step:  500, Loss: 0.0926, Accuracy: 96.88%\n",
      "Step:  600, Loss: 0.1553, Accuracy: 93.75%\n",
      "Step:  700, Loss: 0.1596, Accuracy: 98.44%\n",
      "Step:  800, Loss: 0.0983, Accuracy: 96.88%\n",
      "Step:  900, Loss: 0.0516, Accuracy: 98.44%\n",
      "Step: 1000, Loss: 0.0386, Accuracy: 99.22%\n",
      "Step: 1100, Loss: 0.0485, Accuracy: 98.44%\n",
      "Step: 1200, Loss: 0.0794, Accuracy: 97.66%\n",
      "Step: 1300, Loss: 0.0720, Accuracy: 97.66%\n",
      "Step: 1400, Loss: 0.0622, Accuracy: 97.66%\n",
      "Step: 1500, Loss: 0.0369, Accuracy: 98.44%\n",
      "Step: 1600, Loss: 0.0759, Accuracy: 98.44%\n",
      "Step: 1700, Loss: 0.0242, Accuracy: 98.44%\n",
      "Step: 1800, Loss: 0.0280, Accuracy: 99.22%\n",
      "Step: 1900, Loss: 0.0659, Accuracy: 98.44%\n",
      "Training Finished, Loss: 0.0715, Accuracy: 97.75%\n"
     ]
    }
   ],
   "source": [
    "# relu truncated_normal\n",
    "for i in range(2000):\n",
    "    batch = mnist.train.next_batch(128)\n",
    "    _, loss_, acu = sess.run([train_step, loss, accuracy], {x: batch[0], y_: batch[1]})\n",
    "    if i % 100 == 0:\n",
    "        print(\"Step:{:>5}, Loss:{:>7.4f}, Accuracy:{:>7.2%}\".format(i, loss_, acu))\n",
    "loss_, acu = sess.run([loss, accuracy], {x: mnist.test.images, \n",
    "                                        y_: mnist.test.labels})\n",
    "print(\"Training Finished, Loss:{:>7.4f}, Accuracy:{:>7.2%}\".format(loss_, acu))"
   ]
  },
  {
   "cell_type": "markdown",
   "metadata": {},
   "source": [
    "## 结论： 不可以将权重初始化成一样的值，当有多个神经元时需要对参数进行随机初试化"
   ]
  },
  {
   "cell_type": "code",
   "execution_count": null,
   "metadata": {},
   "outputs": [],
   "source": []
  }
 ],
 "metadata": {
  "kernelspec": {
   "display_name": "Python 3",
   "language": "python",
   "name": "python3"
  },
  "language_info": {
   "codemirror_mode": {
    "name": "ipython",
    "version": 3
   },
   "file_extension": ".py",
   "mimetype": "text/x-python",
   "name": "python",
   "nbconvert_exporter": "python",
   "pygments_lexer": "ipython3",
   "version": "3.6.4"
  }
 },
 "nbformat": 4,
 "nbformat_minor": 2
}
