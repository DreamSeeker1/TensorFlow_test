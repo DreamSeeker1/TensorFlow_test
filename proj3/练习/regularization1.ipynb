{
 "cells": [
  {
   "cell_type": "markdown",
   "metadata": {},
   "source": [
    "# 防止过拟合的练习---正则化(dense)"
   ]
  },
  {
   "cell_type": "code",
   "execution_count": 17,
   "metadata": {},
   "outputs": [
    {
     "name": "stdout",
     "output_type": "stream",
     "text": [
      "Extracting ../MNIST_data/train-images-idx3-ubyte.gz\n",
      "Extracting ../MNIST_data/train-labels-idx1-ubyte.gz\n",
      "Extracting ../MNIST_data/t10k-images-idx3-ubyte.gz\n",
      "Extracting ../MNIST_data/t10k-labels-idx1-ubyte.gz\n"
     ]
    }
   ],
   "source": [
    "import tensorflow as tf\n",
    "from tensorflow.examples.tutorials.mnist import input_data\n",
    "mnist = input_data.read_data_sets('../MNIST_data', one_hot=True)"
   ]
  },
  {
   "cell_type": "code",
   "execution_count": 18,
   "metadata": {},
   "outputs": [],
   "source": [
    "x = tf.placeholder(tf.float32, shape=[None, 784])\n",
    "y_ = tf.placeholder(tf.float32, shape=[None, 10])"
   ]
  },
  {
   "cell_type": "code",
   "execution_count": 19,
   "metadata": {},
   "outputs": [],
   "source": [
    "layer1 = tf.layers.dense(inputs=x, \n",
    "                         units=512, \n",
    "                         activation=tf.nn.tanh,                        \n",
    "                         bias_initializer=tf.constant_initializer(0),\n",
    "                         kernel_initializer=tf.truncated_normal_initializer(stddev=0.1),\n",
    "                         kernel_regularizer=tf.contrib.layers.l2_regularizer(0.0003)\n",
    "                        )\n",
    "layer2 = tf.layers.dense(inputs=layer1, \n",
    "                         units=256, \n",
    "                         activation=tf.nn.tanh,                        \n",
    "                         bias_initializer=tf.constant_initializer(0),\n",
    "                         kernel_initializer=tf.truncated_normal_initializer(stddev=0.1)\n",
    "                        )\n",
    "layer2 = tf.layers.dense(inputs=layer1, \n",
    "                         units=128, \n",
    "                         activation=tf.nn.tanh,                        \n",
    "                         bias_initializer=tf.constant_initializer(0),\n",
    "                         kernel_initializer=tf.truncated_normal_initializer(stddev=0.1)\n",
    "                        )\n",
    "y = tf.layers.dense(inputs=layer2, \n",
    "                    units=10, \n",
    "                    activation=None, \n",
    "                    bias_initializer=tf.constant_initializer(0), \n",
    "                    kernel_initializer=tf.truncated_normal_initializer(stddev=0.1),\n",
    "                    kernel_regularizer=tf.contrib.layers.l2_regularizer(0.0003)\n",
    "                   )"
   ]
  },
  {
   "cell_type": "code",
   "execution_count": 20,
   "metadata": {},
   "outputs": [],
   "source": [
    "loss = tf.reduce_mean(tf.nn.softmax_cross_entropy_with_logits(labels=y_, logits=y))"
   ]
  },
  {
   "cell_type": "code",
   "execution_count": 21,
   "metadata": {},
   "outputs": [],
   "source": [
    "train_step = tf.train.GradientDescentOptimizer(0.5).minimize(loss)"
   ]
  },
  {
   "cell_type": "code",
   "execution_count": 22,
   "metadata": {},
   "outputs": [],
   "source": [
    "softmax_result = tf.nn.softmax(y)\n",
    "pred = tf.argmax(softmax_result, axis=1)\n",
    "true = tf.argmax(y_, axis=1)\n",
    "accuracy = tf.reduce_mean(tf.cast(tf.equal(pred, true), tf.float32))"
   ]
  },
  {
   "cell_type": "code",
   "execution_count": 23,
   "metadata": {},
   "outputs": [],
   "source": [
    "sess = tf.InteractiveSession()\n",
    "init = tf.global_variables_initializer()\n",
    "sess.run(init)"
   ]
  },
  {
   "cell_type": "code",
   "execution_count": 24,
   "metadata": {},
   "outputs": [
    {
     "name": "stdout",
     "output_type": "stream",
     "text": [
      "Step:    0, Loss: 2.4690, Accuracy: 16.41%\n",
      "Step:  100, Loss: 0.3868, Accuracy: 89.06%\n",
      "Step:  200, Loss: 0.1519, Accuracy: 95.31%\n",
      "Step:  300, Loss: 0.1556, Accuracy: 95.31%\n",
      "Step:  400, Loss: 0.2347, Accuracy: 93.75%\n",
      "Step:  500, Loss: 0.1709, Accuracy: 94.53%\n",
      "Step:  600, Loss: 0.1558, Accuracy: 96.88%\n",
      "Step:  700, Loss: 0.1506, Accuracy: 93.75%\n",
      "Step:  800, Loss: 0.0721, Accuracy: 98.44%\n",
      "Step:  900, Loss: 0.0345, Accuracy: 98.44%\n",
      "Step: 1000, Loss: 0.0262, Accuracy:100.00%\n",
      "Step: 1100, Loss: 0.0947, Accuracy: 97.66%\n",
      "Step: 1200, Loss: 0.0669, Accuracy: 97.66%\n",
      "Step: 1300, Loss: 0.0783, Accuracy: 96.09%\n",
      "Step: 1400, Loss: 0.0941, Accuracy: 96.88%\n",
      "Step: 1500, Loss: 0.0649, Accuracy: 97.66%\n",
      "Step: 1600, Loss: 0.0703, Accuracy: 97.66%\n",
      "Step: 1700, Loss: 0.0605, Accuracy: 99.22%\n",
      "Step: 1800, Loss: 0.0200, Accuracy:100.00%\n",
      "Step: 1900, Loss: 0.0152, Accuracy:100.00%\n",
      "Step: 2000, Loss: 0.0338, Accuracy: 97.66%\n",
      "Step: 2100, Loss: 0.0748, Accuracy: 97.66%\n",
      "Step: 2200, Loss: 0.0823, Accuracy: 97.66%\n",
      "Step: 2300, Loss: 0.0326, Accuracy: 99.22%\n",
      "Step: 2400, Loss: 0.0358, Accuracy: 98.44%\n",
      "Step: 2500, Loss: 0.0243, Accuracy: 99.22%\n",
      "Step: 2600, Loss: 0.0374, Accuracy: 98.44%\n",
      "Step: 2700, Loss: 0.0247, Accuracy: 98.44%\n",
      "Step: 2800, Loss: 0.0120, Accuracy:100.00%\n",
      "Step: 2900, Loss: 0.0352, Accuracy: 97.66%\n",
      "Step: 3000, Loss: 0.0072, Accuracy:100.00%\n",
      "Step: 3100, Loss: 0.0154, Accuracy:100.00%\n",
      "Step: 3200, Loss: 0.0101, Accuracy:100.00%\n",
      "Step: 3300, Loss: 0.0055, Accuracy:100.00%\n",
      "Step: 3400, Loss: 0.0146, Accuracy:100.00%\n",
      "Step: 3500, Loss: 0.0076, Accuracy:100.00%\n",
      "Step: 3600, Loss: 0.0102, Accuracy:100.00%\n",
      "Step: 3700, Loss: 0.0289, Accuracy: 99.22%\n",
      "Step: 3800, Loss: 0.0066, Accuracy:100.00%\n",
      "Step: 3900, Loss: 0.0073, Accuracy:100.00%\n",
      "Step: 4000, Loss: 0.0198, Accuracy: 99.22%\n",
      "Step: 4100, Loss: 0.0067, Accuracy:100.00%\n",
      "Step: 4200, Loss: 0.0039, Accuracy:100.00%\n",
      "Step: 4300, Loss: 0.0077, Accuracy:100.00%\n",
      "Step: 4400, Loss: 0.0070, Accuracy:100.00%\n",
      "Step: 4500, Loss: 0.0122, Accuracy: 99.22%\n",
      "Step: 4600, Loss: 0.0050, Accuracy:100.00%\n",
      "Step: 4700, Loss: 0.0100, Accuracy:100.00%\n",
      "Step: 4800, Loss: 0.0163, Accuracy: 99.22%\n",
      "Step: 4900, Loss: 0.0018, Accuracy:100.00%\n",
      "Training Finished, Loss: 0.0645, Accuracy: 98.02%\n"
     ]
    }
   ],
   "source": [
    "for i in range(5000):\n",
    "    batch = mnist.train.next_batch(128)\n",
    "    _, loss_, acu = sess.run([train_step, loss, accuracy], {x: batch[0], y_: batch[1]})\n",
    "    if i % 100 == 0:\n",
    "        print(\"Step:{:>5}, Loss:{:>7.4f}, Accuracy:{:>7.2%}\".format(i, loss_, acu))\n",
    "loss_, acu = sess.run([loss, accuracy], {x: mnist.test.images, \n",
    "                                        y_: mnist.test.labels})\n",
    "print(\"Training Finished, Loss:{:>7.4f}, Accuracy:{:>7.2%}\".format(loss_, acu))"
   ]
  },
  {
   "cell_type": "code",
   "execution_count": null,
   "metadata": {
    "collapsed": true
   },
   "outputs": [],
   "source": []
  }
 ],
 "metadata": {
  "kernelspec": {
   "display_name": "Python 3",
   "language": "python",
   "name": "python3"
  },
  "language_info": {
   "codemirror_mode": {
    "name": "ipython",
    "version": 3
   },
   "file_extension": ".py",
   "mimetype": "text/x-python",
   "name": "python",
   "nbconvert_exporter": "python",
   "pygments_lexer": "ipython3",
   "version": "3.6.4"
  }
 },
 "nbformat": 4,
 "nbformat_minor": 2
}
