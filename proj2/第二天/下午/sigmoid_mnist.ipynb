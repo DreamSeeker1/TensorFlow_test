{
 "cells": [
  {
   "cell_type": "code",
   "execution_count": 25,
   "metadata": {},
   "outputs": [
    {
     "name": "stdout",
     "output_type": "stream",
     "text": [
      "Extracting ../MNIST_data/train-images-idx3-ubyte.gz\n",
      "Extracting ../MNIST_data/train-labels-idx1-ubyte.gz\n",
      "Extracting ../MNIST_data/t10k-images-idx3-ubyte.gz\n",
      "Extracting ../MNIST_data/t10k-labels-idx1-ubyte.gz\n"
     ]
    }
   ],
   "source": [
    "import numpy as np\n",
    "import tensorflow as tf\n",
    "from tensorflow.examples.tutorials.mnist import input_data\n",
    "mnist = input_data.read_data_sets('../MNIST_data', one_hot=True)\n"
   ]
  },
  {
   "cell_type": "code",
   "execution_count": 26,
   "metadata": {},
   "outputs": [],
   "source": [
    "x = tf.placeholder(tf.float32, shape=[None, 784])\n",
    "y_ = tf.placeholder(tf.float32, shape=[None, 10])\n"
   ]
  },
  {
   "cell_type": "code",
   "execution_count": 27,
   "metadata": {},
   "outputs": [],
   "source": [
    "W = tf.Variable(tf.zeros([784, 10]))\n",
    "b = tf.Variable(tf.zeros([10]))\n",
    "sess=tf.Session()\n",
    "init = tf.global_variables_initializer()\n",
    "sess.run(init)\n",
    "y = tf.matmul(x, W) + b\n",
    "loss = tf.reduce_mean(tf.nn.sigmoid_cross_entropy_with_logits(labels=y_, logits=y))\n",
    "train_step = tf.train.GradientDescentOptimizer(0.5).minimize(loss)\n"
   ]
  },
  {
   "cell_type": "code",
   "execution_count": 28,
   "metadata": {},
   "outputs": [],
   "source": [
    "sigmoid_result = tf.nn.sigmoid(y)\n",
    "pred = tf.argmax(sigmoid_result, axis=1)\n",
    "true = tf.argmax(y_, axis=1)\n",
    "accuracy = tf.reduce_mean(tf.cast(tf.equal(pred, true), tf.float32))\n"
   ]
  },
  {
   "cell_type": "code",
   "execution_count": 29,
   "metadata": {},
   "outputs": [
    {
     "name": "stdout",
     "output_type": "stream",
     "text": [
      "Step:    0, Loss: 0.6931, Accuracy: 13.28%\n",
      "Step:  100, Loss: 0.1748, Accuracy: 79.69%\n",
      "Step:  200, Loss: 0.1336, Accuracy: 83.59%\n",
      "Step:  300, Loss: 0.1258, Accuracy: 85.16%\n",
      "Step:  400, Loss: 0.1123, Accuracy: 86.72%\n",
      "Step:  500, Loss: 0.1038, Accuracy: 87.50%\n",
      "Step:  600, Loss: 0.0903, Accuracy: 92.19%\n",
      "Step:  700, Loss: 0.0846, Accuracy: 92.97%\n",
      "Step:  800, Loss: 0.0835, Accuracy: 91.41%\n",
      "Step:  900, Loss: 0.0979, Accuracy: 84.38%\n",
      "Step: 1000, Loss: 0.0886, Accuracy: 90.62%\n",
      "Step: 1100, Loss: 0.0832, Accuracy: 91.41%\n",
      "Step: 1200, Loss: 0.0783, Accuracy: 92.97%\n",
      "Step: 1300, Loss: 0.1002, Accuracy: 88.28%\n",
      "Step: 1400, Loss: 0.0890, Accuracy: 88.28%\n",
      "Step: 1500, Loss: 0.0800, Accuracy: 89.84%\n",
      "Step: 1600, Loss: 0.0892, Accuracy: 89.84%\n",
      "Step: 1700, Loss: 0.0850, Accuracy: 90.62%\n",
      "Step: 1800, Loss: 0.1001, Accuracy: 85.94%\n",
      "Step: 1900, Loss: 0.0760, Accuracy: 88.28%\n",
      "Step: 2000, Loss: 0.0756, Accuracy: 88.28%\n",
      "Step: 2100, Loss: 0.0809, Accuracy: 90.62%\n",
      "Step: 2200, Loss: 0.0922, Accuracy: 85.94%\n",
      "Step: 2300, Loss: 0.1020, Accuracy: 85.94%\n",
      "Step: 2400, Loss: 0.0745, Accuracy: 85.94%\n",
      "Step: 2500, Loss: 0.0842, Accuracy: 88.28%\n",
      "Step: 2600, Loss: 0.0778, Accuracy: 87.50%\n",
      "Step: 2700, Loss: 0.0770, Accuracy: 90.62%\n",
      "Step: 2800, Loss: 0.0906, Accuracy: 91.41%\n",
      "Step: 2900, Loss: 0.0784, Accuracy: 86.72%\n",
      "Step: 3000, Loss: 0.0815, Accuracy: 90.62%\n",
      "Step: 3100, Loss: 0.1078, Accuracy: 85.94%\n",
      "Step: 3200, Loss: 0.0784, Accuracy: 90.62%\n",
      "Step: 3300, Loss: 0.0780, Accuracy: 93.75%\n",
      "Step: 3400, Loss: 0.0972, Accuracy: 85.94%\n",
      "Step: 3500, Loss: 0.0578, Accuracy: 94.53%\n",
      "Step: 3600, Loss: 0.0732, Accuracy: 91.41%\n",
      "Step: 3700, Loss: 0.0539, Accuracy: 94.53%\n",
      "Step: 3800, Loss: 0.0706, Accuracy: 91.41%\n",
      "Step: 3900, Loss: 0.0658, Accuracy: 91.41%\n",
      "Training Finished, Loss: 0.0733, Accuracy: 90.96%\n"
     ]
    }
   ],
   "source": [
    "for i in range(4000):\n",
    "    batch = mnist.train.next_batch(128)\n",
    "    _, loss_, acu = sess.run([train_step, loss, accuracy], {x: batch[0], y_: batch[1]})\n",
    "    if i % 100 == 0:\n",
    "        print(\"Step:{:>5}, Loss:{:>7.4f}, Accuracy:{:>7.2%}\".format(i, loss_, acu))\n",
    "loss_, acu = sess.run([loss, accuracy], {x: mnist.test.images, \n",
    "                                                        y_: mnist.test.labels})\n",
    "print(\"Training Finished, Loss:{:>7.4f}, Accuracy:{:>7.2%}\".format(loss_, acu))"
   ]
  },
  {
   "cell_type": "code",
   "execution_count": null,
   "metadata": {},
   "outputs": [],
   "source": []
  }
 ],
 "metadata": {
  "kernelspec": {
   "display_name": "Python 3",
   "language": "python",
   "name": "python3"
  },
  "language_info": {
   "codemirror_mode": {
    "name": "ipython",
    "version": 3
   },
   "file_extension": ".py",
   "mimetype": "text/x-python",
   "name": "python",
   "nbconvert_exporter": "python",
   "pygments_lexer": "ipython3",
   "version": "3.6.4"
  }
 },
 "nbformat": 4,
 "nbformat_minor": 2
}
