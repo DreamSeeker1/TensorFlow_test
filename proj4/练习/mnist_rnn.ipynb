{
 "cells": [
  {
   "cell_type": "markdown",
   "metadata": {},
   "source": [
    "# 基于RNN的数字识别"
   ]
  },
  {
   "cell_type": "markdown",
   "metadata": {},
   "source": [
    "### 载入MNIST数据"
   ]
  },
  {
   "cell_type": "code",
   "execution_count": 1,
   "metadata": {},
   "outputs": [
    {
     "name": "stderr",
     "output_type": "stream",
     "text": [
      "/Users/liuyanfang/anaconda3/envs/tensorflow1.4/lib/python3.6/importlib/_bootstrap.py:219: RuntimeWarning: compiletime version 3.5 of module 'tensorflow.python.framework.fast_tensor_util' does not match runtime version 3.6\n",
      "  return f(*args, **kwds)\n"
     ]
    },
    {
     "name": "stdout",
     "output_type": "stream",
     "text": [
      "Extracting ../../proj2/第二天/练习/MNIST_data/train-images-idx3-ubyte.gz\n",
      "Extracting ../../proj2/第二天/练习/MNIST_data/train-labels-idx1-ubyte.gz\n",
      "Extracting ../../proj2/第二天/练习/MNIST_data/t10k-images-idx3-ubyte.gz\n",
      "Extracting ../../proj2/第二天/练习/MNIST_data/t10k-labels-idx1-ubyte.gz\n"
     ]
    }
   ],
   "source": [
    "import tensorflow as tf\n",
    "from tensorflow.examples.tutorials.mnist import input_data\n",
    "mnist = input_data.read_data_sets('../../proj2/第二天/练习/MNIST_data', one_hot=True)"
   ]
  },
  {
   "cell_type": "code",
   "execution_count": 2,
   "metadata": {},
   "outputs": [],
   "source": [
    "sess = tf.InteractiveSession()"
   ]
  },
  {
   "cell_type": "code",
   "execution_count": 3,
   "metadata": {},
   "outputs": [],
   "source": [
    "x = tf.placeholder(tf.float32, shape=[None, 784])\n",
    "y_ = tf.placeholder(tf.float32, shape=[None, 10])"
   ]
  },
  {
   "cell_type": "code",
   "execution_count": 4,
   "metadata": {},
   "outputs": [],
   "source": [
    "def lstm_cell(lstm_size):\n",
    "  return tf.contrib.rnn.BasicLSTMCell(lstm_size)"
   ]
  },
  {
   "cell_type": "markdown",
   "metadata": {},
   "source": [
    "在这一部分的循环神经网络中，我们选择使用LSTM结构，这种结构能够有效的防止梯度消失的问题。以上函数能够根据指定的大小返回一个LSTM单元"
   ]
  },
  {
   "cell_type": "code",
   "execution_count": 5,
   "metadata": {},
   "outputs": [],
   "source": [
    "stacked_lstm = tf.contrib.rnn.MultiRNNCell(\n",
    "    [lstm_cell(28*28) for _ in range(3)]) # 参数是： cells, state_is_tuple=True"
   ]
  },
  {
   "cell_type": "markdown",
   "metadata": {},
   "source": [
    "### 通过使用tf.contrib.rnn.MultiRNNCell，我们可以将多个LSTM连接起来形成多层RNN网络。\n",
    "### Args:\n",
    "      cells: list of RNNCells that will be composed in this order.\n",
    "      state_is_tuple: If True, accepted and returned states are n-tuples, where\n",
    "        `n = len(cells)`.  If False, the states are all\n",
    "        concatenated along the column axis.  This latter behavior will soon be\n",
    "        deprecated."
   ]
  },
  {
   "cell_type": "code",
   "execution_count": 6,
   "metadata": {},
   "outputs": [],
   "source": [
    "state = stacked_lstm.zero_state(batch_size=tf.shape(x)[0], dtype=tf.float32)"
   ]
  },
  {
   "cell_type": "markdown",
   "metadata": {},
   "source": [
    "定义RNN的初始状态为零，通过tf.shape函数得到输入的batch大小。\n",
    "zero_state(\n",
    "    batch_size,\n",
    "    dtype\n",
    ")"
   ]
  },
  {
   "cell_type": "code",
   "execution_count": 7,
   "metadata": {},
   "outputs": [
    {
     "name": "stdout",
     "output_type": "stream",
     "text": [
      "(?, 784)\n"
     ]
    }
   ],
   "source": [
    "output = x\n",
    "for i in range(5):\n",
    "    output, state = stacked_lstm(output, state)\n",
    "print(output.shape)"
   ]
  },
  {
   "cell_type": "markdown",
   "metadata": {},
   "source": [
    "将RNN在时间上展开，这里总共展开了5步，output为网络输出。"
   ]
  },
  {
   "cell_type": "code",
   "execution_count": 8,
   "metadata": {},
   "outputs": [],
   "source": [
    "y_rnn = tf.layers.dense(output, 10,\n",
    "                    kernel_initializer=tf.truncated_normal_initializer(stddev=0.1),\n",
    "                    bias_initializer=tf.constant_initializer(0.1),\n",
    "                    name='rnn_output_layer'\n",
    "                    )"
   ]
  },
  {
   "cell_type": "markdown",
   "metadata": {},
   "source": [
    "将RNN的输出经过全连接层，转化为对应的维度（10维，对应数字0-9）"
   ]
  },
  {
   "cell_type": "code",
   "execution_count": 9,
   "metadata": {},
   "outputs": [
    {
     "name": "stdout",
     "output_type": "stream",
     "text": [
      "step 0, training accuracy 0.1\n",
      "step 10, training accuracy 0.46\n",
      "step 20, training accuracy 0.62\n",
      "step 30, training accuracy 0.56\n",
      "step 40, training accuracy 0.74\n",
      "step 50, training accuracy 0.76\n",
      "step 60, training accuracy 0.82\n",
      "step 70, training accuracy 0.84\n",
      "step 80, training accuracy 0.8\n",
      "step 90, training accuracy 0.86\n",
      "step 100, training accuracy 0.9\n",
      "step 110, training accuracy 0.84\n",
      "step 120, training accuracy 0.84\n",
      "step 130, training accuracy 0.82\n",
      "step 140, training accuracy 0.86\n",
      "step 150, training accuracy 0.94\n",
      "step 160, training accuracy 0.9\n",
      "step 170, training accuracy 0.88\n",
      "step 180, training accuracy 0.88\n",
      "step 190, training accuracy 0.84\n",
      "step 200, training accuracy 0.88\n",
      "step 210, training accuracy 0.84\n",
      "step 220, training accuracy 0.92\n",
      "step 230, training accuracy 0.9\n",
      "step 240, training accuracy 0.8\n",
      "step 250, training accuracy 0.94\n",
      "step 260, training accuracy 0.96\n",
      "step 270, training accuracy 0.88\n",
      "step 280, training accuracy 0.96\n",
      "step 290, training accuracy 0.92\n",
      "step 300, training accuracy 0.92\n",
      "step 310, training accuracy 0.94\n",
      "step 320, training accuracy 0.96\n",
      "step 330, training accuracy 0.84\n",
      "step 340, training accuracy 0.86\n",
      "step 350, training accuracy 0.94\n",
      "step 360, training accuracy 0.9\n",
      "step 370, training accuracy 0.86\n",
      "step 380, training accuracy 0.94\n",
      "step 390, training accuracy 0.9\n",
      "step 400, training accuracy 0.96\n",
      "step 410, training accuracy 0.94\n",
      "step 420, training accuracy 0.88\n",
      "step 430, training accuracy 0.86\n",
      "step 440, training accuracy 0.92\n",
      "step 450, training accuracy 0.88\n",
      "step 460, training accuracy 0.88\n",
      "step 470, training accuracy 0.94\n",
      "step 480, training accuracy 0.92\n",
      "step 490, training accuracy 0.86\n",
      "step 500, training accuracy 0.98\n",
      "step 510, training accuracy 0.94\n",
      "step 520, training accuracy 0.94\n",
      "step 530, training accuracy 0.96\n",
      "step 540, training accuracy 0.98\n",
      "step 550, training accuracy 0.92\n",
      "step 560, training accuracy 0.96\n",
      "step 570, training accuracy 0.94\n",
      "step 580, training accuracy 0.9\n",
      "step 590, training accuracy 0.9\n",
      "step 600, training accuracy 1\n",
      "step 610, training accuracy 0.94\n",
      "step 620, training accuracy 0.96\n",
      "step 630, training accuracy 0.98\n",
      "step 640, training accuracy 0.94\n",
      "step 650, training accuracy 0.92\n",
      "step 660, training accuracy 0.92\n",
      "step 670, training accuracy 0.92\n",
      "step 680, training accuracy 0.94\n",
      "step 690, training accuracy 0.92\n",
      "step 700, training accuracy 0.96\n",
      "step 710, training accuracy 0.96\n",
      "step 720, training accuracy 0.9\n",
      "step 730, training accuracy 0.98\n",
      "step 740, training accuracy 0.92\n",
      "step 750, training accuracy 0.96\n",
      "step 760, training accuracy 1\n",
      "step 770, training accuracy 0.94\n",
      "step 780, training accuracy 0.94\n",
      "step 790, training accuracy 0.92\n",
      "step 800, training accuracy 0.92\n",
      "step 810, training accuracy 0.94\n",
      "step 820, training accuracy 0.94\n",
      "step 830, training accuracy 0.92\n",
      "step 840, training accuracy 0.98\n",
      "step 850, training accuracy 0.92\n",
      "step 860, training accuracy 0.96\n",
      "step 870, training accuracy 0.98\n",
      "step 880, training accuracy 0.96\n",
      "step 890, training accuracy 0.92\n",
      "step 900, training accuracy 0.98\n",
      "step 910, training accuracy 0.96\n",
      "step 920, training accuracy 0.98\n",
      "step 930, training accuracy 0.92\n",
      "step 940, training accuracy 0.9\n",
      "step 950, training accuracy 0.9\n",
      "step 960, training accuracy 1\n",
      "step 970, training accuracy 0.84\n",
      "step 980, training accuracy 0.92\n",
      "step 990, training accuracy 0.96\n",
      "step 1000, training accuracy 0.9\n",
      "step 1010, training accuracy 0.9\n",
      "step 1020, training accuracy 0.94\n",
      "step 1030, training accuracy 0.94\n",
      "step 1040, training accuracy 0.96\n",
      "step 1050, training accuracy 0.92\n",
      "step 1060, training accuracy 0.98\n",
      "step 1070, training accuracy 0.94\n",
      "step 1080, training accuracy 0.9\n",
      "step 1090, training accuracy 0.96\n",
      "step 1100, training accuracy 0.92\n",
      "step 1110, training accuracy 1\n",
      "step 1120, training accuracy 0.96\n",
      "step 1130, training accuracy 0.94\n",
      "step 1140, training accuracy 0.92\n",
      "step 1150, training accuracy 1\n",
      "step 1160, training accuracy 0.98\n",
      "step 1170, training accuracy 0.94\n",
      "step 1180, training accuracy 0.96\n",
      "step 1190, training accuracy 0.92\n",
      "step 1200, training accuracy 1\n",
      "step 1210, training accuracy 0.98\n",
      "step 1220, training accuracy 0.96\n",
      "step 1230, training accuracy 0.98\n",
      "step 1240, training accuracy 0.96\n",
      "step 1250, training accuracy 1\n",
      "step 1260, training accuracy 0.96\n",
      "step 1270, training accuracy 0.96\n",
      "step 1280, training accuracy 0.9\n",
      "step 1290, training accuracy 1\n",
      "step 1300, training accuracy 0.94\n",
      "step 1310, training accuracy 0.98\n",
      "step 1320, training accuracy 0.98\n",
      "step 1330, training accuracy 0.96\n",
      "step 1340, training accuracy 0.96\n",
      "step 1350, training accuracy 0.88\n",
      "step 1360, training accuracy 0.9\n",
      "step 1370, training accuracy 0.94\n",
      "step 1380, training accuracy 0.98\n",
      "step 1390, training accuracy 1\n",
      "step 1400, training accuracy 0.98\n",
      "step 1410, training accuracy 0.96\n",
      "step 1420, training accuracy 0.98\n",
      "step 1430, training accuracy 1\n",
      "step 1440, training accuracy 0.96\n",
      "step 1450, training accuracy 0.98\n",
      "step 1460, training accuracy 0.98\n",
      "step 1470, training accuracy 0.94\n",
      "step 1480, training accuracy 0.96\n",
      "step 1490, training accuracy 0.98\n",
      "step 1500, training accuracy 0.88\n",
      "step 1510, training accuracy 0.96\n",
      "step 1520, training accuracy 0.96\n",
      "step 1530, training accuracy 0.9\n",
      "step 1540, training accuracy 0.94\n",
      "step 1550, training accuracy 0.94\n",
      "step 1560, training accuracy 0.94\n",
      "step 1570, training accuracy 0.96\n",
      "step 1580, training accuracy 0.94\n",
      "step 1590, training accuracy 0.96\n",
      "step 1600, training accuracy 0.96\n",
      "step 1610, training accuracy 0.98\n",
      "step 1620, training accuracy 0.92\n",
      "step 1630, training accuracy 0.96\n",
      "step 1640, training accuracy 0.92\n",
      "step 1650, training accuracy 0.94\n",
      "step 1660, training accuracy 0.96\n",
      "step 1670, training accuracy 0.92\n",
      "step 1680, training accuracy 0.96\n",
      "step 1690, training accuracy 1\n",
      "step 1700, training accuracy 0.98\n",
      "step 1710, training accuracy 0.94\n",
      "step 1720, training accuracy 0.98\n",
      "step 1730, training accuracy 0.96\n",
      "step 1740, training accuracy 0.86\n",
      "step 1750, training accuracy 0.96\n",
      "step 1760, training accuracy 0.92\n",
      "step 1770, training accuracy 0.98\n",
      "step 1780, training accuracy 0.96\n",
      "step 1790, training accuracy 0.92\n",
      "step 1800, training accuracy 0.96\n",
      "step 1810, training accuracy 0.88\n",
      "step 1820, training accuracy 0.92\n",
      "step 1830, training accuracy 0.96\n",
      "step 1840, training accuracy 0.94\n",
      "step 1850, training accuracy 0.98\n",
      "step 1860, training accuracy 0.98\n",
      "step 1870, training accuracy 0.96\n",
      "step 1880, training accuracy 0.94\n",
      "step 1890, training accuracy 0.94\n",
      "step 1900, training accuracy 0.9\n",
      "step 1910, training accuracy 0.96\n",
      "step 1920, training accuracy 1\n",
      "step 1930, training accuracy 1\n",
      "step 1940, training accuracy 0.98\n",
      "step 1950, training accuracy 0.96\n",
      "step 1960, training accuracy 0.96\n",
      "step 1970, training accuracy 0.9\n",
      "step 1980, training accuracy 0.98\n",
      "step 1990, training accuracy 0.94\n",
      "test accuracy 0.9613\n"
     ]
    }
   ],
   "source": [
    "cross_entropy = tf.reduce_mean(tf.nn.softmax_cross_entropy_with_logits(labels=y_, logits=y_rnn))\n",
    "train_step = tf.train.AdamOptimizer(1e-4).minimize(cross_entropy)\n",
    "correct_prediction = tf.equal(tf.argmax(y_rnn, 1), tf.argmax(y_, 1))\n",
    "accuracy = tf.reduce_mean(tf.cast(correct_prediction, tf.float32))\n",
    "\n",
    "with tf.Session() as sess:\n",
    "    sess.run(tf.global_variables_initializer())\n",
    "    for i in range(2000):\n",
    "        batch = mnist.train.next_batch(50)\n",
    "        _,acc=sess.run([train_step,accuracy],feed_dict={x: batch[0], y_: batch[1]})\n",
    "        if i % 10 == 0:            \n",
    "            print('step %d, training accuracy %g' % (i, acc))\n",
    "    ac=sess.run(accuracy,feed_dict={x: mnist.test.images, y_: mnist.test.labels})\n",
    "    print('test accuracy %g' %ac)"
   ]
  },
  {
   "cell_type": "code",
   "execution_count": null,
   "metadata": {},
   "outputs": [],
   "source": []
  }
 ],
 "metadata": {
  "kernelspec": {
   "display_name": "Python 3",
   "language": "python",
   "name": "python3"
  },
  "language_info": {
   "codemirror_mode": {
    "name": "ipython",
    "version": 3
   },
   "file_extension": ".py",
   "mimetype": "text/x-python",
   "name": "python",
   "nbconvert_exporter": "python",
   "pygments_lexer": "ipython3",
   "version": "3.6.4"
  }
 },
 "nbformat": 4,
 "nbformat_minor": 2
}
