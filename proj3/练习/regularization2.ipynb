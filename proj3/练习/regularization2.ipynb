{
 "cells": [
  {
   "cell_type": "markdown",
   "metadata": {},
   "source": [
    "# 防止过拟合的练习---正则化（weight）"
   ]
  },
  {
   "cell_type": "code",
   "execution_count": 1,
   "metadata": {},
   "outputs": [
    {
     "name": "stderr",
     "output_type": "stream",
     "text": [
      "/Users/liuyanfang/anaconda3/envs/tensorflow1.4/lib/python3.6/importlib/_bootstrap.py:219: RuntimeWarning: compiletime version 3.5 of module 'tensorflow.python.framework.fast_tensor_util' does not match runtime version 3.6\n",
      "  return f(*args, **kwds)\n"
     ]
    },
    {
     "name": "stdout",
     "output_type": "stream",
     "text": [
      "Extracting ../MNIST_data/train-images-idx3-ubyte.gz\n",
      "Extracting ../MNIST_data/train-labels-idx1-ubyte.gz\n",
      "Extracting ../MNIST_data/t10k-images-idx3-ubyte.gz\n",
      "Extracting ../MNIST_data/t10k-labels-idx1-ubyte.gz\n"
     ]
    }
   ],
   "source": [
    "import tensorflow as tf\n",
    "from tensorflow.examples.tutorials.mnist import input_data\n",
    "mnist = input_data.read_data_sets('../MNIST_data', one_hot=True)"
   ]
  },
  {
   "cell_type": "code",
   "execution_count": 2,
   "metadata": {},
   "outputs": [],
   "source": [
    "x = tf.placeholder(tf.float32, shape=[None, 784])\n",
    "y_ = tf.placeholder(tf.float32, shape=[None, 10])"
   ]
  },
  {
   "cell_type": "code",
   "execution_count": 3,
   "metadata": {},
   "outputs": [],
   "source": [
    "regularizer = tf.contrib.layers.l2_regularizer(0.0003)\n",
    "W1 = tf.get_variable(name=\"W1\", regularizer=regularizer, initializer=tf.truncated_normal([784, 512], mean=0., stddev=0.1))\n",
    "b1 = tf.Variable(tf.zeros([512]))\n",
    "layer1 = tf.nn.tanh(tf.matmul(x, W1) + b1)\n",
    "\n",
    "W2 = tf.Variable(tf.truncated_normal([512, 256], mean=0., stddev=0.1))\n",
    "b2 = tf.Variable(tf.zeros([256]))\n",
    "layer2 = tf.nn.tanh(tf.matmul(layer1, W2) + b2 )\n",
    "\n",
    "W3 = tf.Variable(tf.truncated_normal([256, 128], mean=0., stddev=0.1))\n",
    "b3 = tf.Variable(tf.zeros([128]))\n",
    "layer3 = tf.nn.tanh(tf.matmul(layer2, W3) + b3 )\n",
    "\n",
    "W = tf.get_variable(name=\"W\",regularizer=regularizer, initializer=tf.truncated_normal([128, 10], mean=0., stddev=0.1))\n",
    "b = tf.Variable(tf.zeros([10]))\n",
    "y = tf.matmul(layer3, W) + b\n",
    "\n",
    "w_pic = tf.matmul(tf.matmul(tf.matmul(W1,W2),W3),W)"
   ]
  },
  {
   "cell_type": "markdown",
   "metadata": {},
   "source": [
    "tf.add_to_collection：把变量放入一个集合，把很多变量变成一个列表\n"
   ]
  },
  {
   "cell_type": "markdown",
   "metadata": {},
   "source": [
    "调用tf.contrib.layers.apply_regularization来生成损失函数的L2正则化项re，所传第一个参数为上面生成的正则化方法，第二个参数为none时默认值为tf.GraphKeys.WEIGHTS\n",
    "\n"
   ]
  },
  {
   "cell_type": "code",
   "execution_count": 4,
   "metadata": {},
   "outputs": [],
   "source": [
    "tf.add_to_collection(tf.GraphKeys.WEIGHTS, W1)\n",
    "tf.add_to_collection(tf.GraphKeys.WEIGHTS, W)\n",
    "re = tf.contrib.layers.apply_regularization(regularizer)"
   ]
  },
  {
   "cell_type": "code",
   "execution_count": 5,
   "metadata": {},
   "outputs": [],
   "source": [
    "loss = tf.reduce_mean(tf.nn.softmax_cross_entropy_with_logits(labels=y_, logits=y)+re)"
   ]
  },
  {
   "cell_type": "code",
   "execution_count": 6,
   "metadata": {},
   "outputs": [],
   "source": [
    "train_step = tf.train.GradientDescentOptimizer(0.5).minimize(loss)"
   ]
  },
  {
   "cell_type": "code",
   "execution_count": 7,
   "metadata": {},
   "outputs": [],
   "source": [
    "softmax_result = tf.nn.softmax(y)\n",
    "pred = tf.argmax(softmax_result, axis=1)\n",
    "true = tf.argmax(y_, axis=1)\n",
    "accuracy = tf.reduce_mean(tf.cast(tf.equal(pred, true), tf.float32))"
   ]
  },
  {
   "cell_type": "code",
   "execution_count": 8,
   "metadata": {},
   "outputs": [],
   "source": [
    "sess = tf.InteractiveSession()\n",
    "init = tf.global_variables_initializer()\n",
    "sess.run(init)"
   ]
  },
  {
   "cell_type": "code",
   "execution_count": 9,
   "metadata": {},
   "outputs": [
    {
     "name": "stdout",
     "output_type": "stream",
     "text": [
      "Step:    0, Loss: 2.9145, Accuracy: 10.16%\n",
      "Step:  100, Loss: 0.7112, Accuracy: 89.84%\n",
      "Step:  200, Loss: 0.6621, Accuracy: 94.53%\n",
      "Step:  300, Loss: 0.5837, Accuracy: 93.75%\n",
      "Step:  400, Loss: 0.6120, Accuracy: 92.97%\n",
      "Step:  500, Loss: 0.4773, Accuracy: 97.66%\n",
      "Step:  600, Loss: 0.4811, Accuracy: 98.44%\n",
      "Step:  700, Loss: 0.5170, Accuracy: 96.88%\n",
      "Step:  800, Loss: 0.4214, Accuracy: 99.22%\n",
      "Step:  900, Loss: 0.4247, Accuracy: 97.66%\n",
      "Step: 1000, Loss: 0.3979, Accuracy: 97.66%\n",
      "Step: 1100, Loss: 0.4291, Accuracy: 97.66%\n",
      "Step: 1200, Loss: 0.3928, Accuracy: 97.66%\n",
      "Step: 1300, Loss: 0.4038, Accuracy: 98.44%\n",
      "Step: 1400, Loss: 0.3560, Accuracy: 98.44%\n",
      "Step: 1500, Loss: 0.3774, Accuracy: 98.44%\n",
      "Step: 1600, Loss: 0.3993, Accuracy: 96.88%\n",
      "Step: 1700, Loss: 0.3453, Accuracy: 98.44%\n",
      "Step: 1800, Loss: 0.3011, Accuracy:100.00%\n",
      "Step: 1900, Loss: 0.3602, Accuracy: 96.09%\n",
      "Step: 2000, Loss: 0.3173, Accuracy: 98.44%\n",
      "Step: 2100, Loss: 0.2941, Accuracy:100.00%\n",
      "Step: 2200, Loss: 0.2781, Accuracy:100.00%\n",
      "Step: 2300, Loss: 0.2680, Accuracy:100.00%\n",
      "Step: 2400, Loss: 0.2792, Accuracy: 99.22%\n",
      "Step: 2500, Loss: 0.2730, Accuracy: 99.22%\n",
      "Step: 2600, Loss: 0.2556, Accuracy:100.00%\n",
      "Step: 2700, Loss: 0.2389, Accuracy:100.00%\n",
      "Step: 2800, Loss: 0.2651, Accuracy: 99.22%\n",
      "Step: 2900, Loss: 0.2256, Accuracy:100.00%\n",
      "Step: 3000, Loss: 0.2292, Accuracy:100.00%\n",
      "Step: 3100, Loss: 0.2189, Accuracy:100.00%\n",
      "Step: 3200, Loss: 0.2167, Accuracy:100.00%\n",
      "Step: 3300, Loss: 0.2100, Accuracy: 99.22%\n",
      "Step: 3400, Loss: 0.2045, Accuracy: 99.22%\n",
      "Step: 3500, Loss: 0.1968, Accuracy:100.00%\n",
      "Step: 3600, Loss: 0.2056, Accuracy: 99.22%\n",
      "Step: 3700, Loss: 0.1909, Accuracy:100.00%\n",
      "Step: 3800, Loss: 0.1810, Accuracy:100.00%\n",
      "Step: 3900, Loss: 0.1704, Accuracy:100.00%\n",
      "Step: 4000, Loss: 0.1667, Accuracy:100.00%\n",
      "Step: 4100, Loss: 0.2059, Accuracy: 99.22%\n",
      "Step: 4200, Loss: 0.1624, Accuracy:100.00%\n",
      "Step: 4300, Loss: 0.1614, Accuracy:100.00%\n",
      "Step: 4400, Loss: 0.1509, Accuracy:100.00%\n",
      "Step: 4500, Loss: 0.1477, Accuracy:100.00%\n",
      "Step: 4600, Loss: 0.1495, Accuracy:100.00%\n",
      "Step: 4700, Loss: 0.1430, Accuracy:100.00%\n",
      "Step: 4800, Loss: 0.1349, Accuracy:100.00%\n",
      "Step: 4900, Loss: 0.1352, Accuracy:100.00%\n",
      "Training Finished, Loss: 0.1850, Accuracy: 98.09%\n"
     ]
    }
   ],
   "source": [
    "for i in range(5000):\n",
    "    batch = mnist.train.next_batch(128)\n",
    "    _, loss_, acu  = sess.run([train_step, loss, accuracy], {x: batch[0], y_: batch[1]})\n",
    "    if i % 100 == 0:\n",
    "        print(\"Step:{:>5}, Loss:{:>7.4f}, Accuracy:{:>7.2%}\".format(i, loss_, acu))\n",
    "loss_, acu = sess.run([loss, accuracy], {x: mnist.test.images, \n",
    "                                        y_: mnist.test.labels})\n",
    "qz = sess.run(w_pic)\n",
    "print(\"Training Finished, Loss:{:>7.4f}, Accuracy:{:>7.2%}\".format(loss_, acu))"
   ]
  },
  {
   "cell_type": "markdown",
   "metadata": {
    "collapsed": true
   },
   "source": [
    "参考网址：https://www.cnblogs.com/linyuanzhou/p/6923607.html\n",
    "    https://zhuanlan.zhihu.com/p/29297934"
   ]
  },
  {
   "cell_type": "code",
   "execution_count": 10,
   "metadata": {},
   "outputs": [],
   "source": [
    "from PIL import Image\n",
    "import matplotlib.pyplot as plt\n",
    "import numpy as np\n",
    "W_value = qz[:,0]\n",
    "Min = np.min(W_value)\n",
    "Max = np.max(W_value)\n",
    "for i in range(len(W_value)):\n",
    "    W_value[i] = int((W_value[i] - Min) / (Max - Min) * 255.)\n",
    "im = Image.fromarray(np.reshape(W_value, (28, 28)).astype('uint8'))\n",
    "im.show()\n",
    "im.save('L2.jpg')"
   ]
  },
  {
   "cell_type": "code",
   "execution_count": null,
   "metadata": {},
   "outputs": [],
   "source": []
  },
  {
   "cell_type": "code",
   "execution_count": 9,
   "metadata": {},
   "outputs": [
    {
     "name": "stdout",
     "output_type": "stream",
     "text": [
      "Step:    0, Loss:11.0428, Accuracy: 12.50%\n",
      "Step:  100, Loss: 7.3247, Accuracy: 92.97%\n",
      "Step:  200, Loss: 5.8761, Accuracy: 94.53%\n",
      "Step:  300, Loss: 4.6248, Accuracy: 93.75%\n",
      "Step:  400, Loss: 3.5541, Accuracy: 94.53%\n",
      "Step:  500, Loss: 2.7260, Accuracy: 93.75%\n",
      "Step:  600, Loss: 2.0635, Accuracy: 98.44%\n",
      "Step:  700, Loss: 1.5486, Accuracy: 95.31%\n",
      "Step:  800, Loss: 1.1803, Accuracy: 96.88%\n",
      "Step:  900, Loss: 1.1321, Accuracy: 89.84%\n",
      "Step: 1000, Loss:10.5767, Accuracy: 17.97%\n",
      "Step: 1100, Loss: 1.4677, Accuracy: 78.12%\n",
      "Step: 1200, Loss: 0.8898, Accuracy: 89.84%\n",
      "Step: 1300, Loss: 0.5123, Accuracy: 97.66%\n",
      "Step: 1400, Loss: 0.6155, Accuracy: 91.41%\n",
      "Step: 1500, Loss: 0.5108, Accuracy: 96.88%\n",
      "Step: 1600, Loss: 0.5107, Accuracy: 95.31%\n",
      "Step: 1700, Loss: 0.4372, Accuracy: 96.09%\n",
      "Step: 1800, Loss: 0.4857, Accuracy: 93.75%\n",
      "Step: 1900, Loss: 0.3960, Accuracy: 99.22%\n",
      "Step: 2000, Loss: 0.4860, Accuracy: 96.09%\n",
      "Step: 2100, Loss: 0.5326, Accuracy: 91.41%\n",
      "Step: 2200, Loss: 1.3252, Accuracy: 68.75%\n",
      "Step: 2300, Loss: 0.4354, Accuracy: 93.75%\n",
      "Step: 2400, Loss: 0.4246, Accuracy: 97.66%\n",
      "Step: 2500, Loss: 0.4019, Accuracy: 95.31%\n",
      "Step: 2600, Loss: 0.3950, Accuracy: 96.09%\n",
      "Step: 2700, Loss: 0.3906, Accuracy: 96.88%\n",
      "Step: 2800, Loss: 0.3895, Accuracy: 95.31%\n",
      "Step: 2900, Loss: 0.4970, Accuracy: 96.09%\n",
      "Step: 3000, Loss: 0.3938, Accuracy: 96.09%\n",
      "Step: 3100, Loss: 0.4462, Accuracy: 94.53%\n",
      "Step: 3200, Loss: 0.3618, Accuracy: 95.31%\n",
      "Step: 3300, Loss: 0.3573, Accuracy: 96.88%\n",
      "Step: 3400, Loss: 0.3382, Accuracy: 96.88%\n",
      "Step: 3500, Loss: 0.5543, Accuracy: 92.19%\n",
      "Step: 3600, Loss: 0.3445, Accuracy: 96.88%\n",
      "Step: 3700, Loss: 0.2630, Accuracy: 99.22%\n",
      "Step: 3800, Loss: 0.3214, Accuracy: 96.88%\n",
      "Step: 3900, Loss: 0.3402, Accuracy: 96.88%\n",
      "Step: 4000, Loss: 0.3325, Accuracy: 95.31%\n",
      "Step: 4100, Loss: 0.2647, Accuracy: 99.22%\n",
      "Step: 4200, Loss: 0.3152, Accuracy: 96.09%\n",
      "Step: 4300, Loss: 0.4659, Accuracy: 94.53%\n",
      "Step: 4400, Loss: 0.3457, Accuracy: 95.31%\n",
      "Step: 4500, Loss: 0.4140, Accuracy: 92.19%\n",
      "Step: 4600, Loss: 0.3238, Accuracy: 97.66%\n",
      "Step: 4700, Loss: 0.4176, Accuracy: 95.31%\n",
      "Step: 4800, Loss: 0.3602, Accuracy: 96.09%\n",
      "Step: 4900, Loss: 2.5268, Accuracy: 61.72%\n",
      "Training Finished, Loss: 0.3239, Accuracy: 96.48%\n"
     ]
    }
   ],
   "source": [
    "# L1 正则化\n",
    "for i in range(5000):\n",
    "    batch = mnist.train.next_batch(128)\n",
    "    _, loss_, acu  = sess.run([train_step, loss, accuracy], {x: batch[0], y_: batch[1]})\n",
    "    if i % 100 == 0:\n",
    "        print(\"Step:{:>5}, Loss:{:>7.4f}, Accuracy:{:>7.2%}\".format(i, loss_, acu))\n",
    "loss_, acu = sess.run([loss, accuracy], {x: mnist.test.images, \n",
    "                                        y_: mnist.test.labels})\n",
    "qz = sess.run(w_pic)\n",
    "print(\"Training Finished, Loss:{:>7.4f}, Accuracy:{:>7.2%}\".format(loss_, acu))\n"
   ]
  },
  {
   "cell_type": "code",
   "execution_count": 15,
   "metadata": {},
   "outputs": [],
   "source": [
    "from PIL import Image\n",
    "import matplotlib.pyplot as plt\n",
    "import numpy as np\n",
    "W_value = qz[:,0]\n",
    "Min = np.min(W_value)\n",
    "Max = np.max(W_value)\n",
    "for i in range(len(W_value)):\n",
    "    W_value[i] = int((W_value[i] - Min) / (Max - Min) * 255.)\n",
    "im = Image.fromarray(np.reshape(W_value, (28, 28)).astype('uint8'))\n",
    "im.show()\n",
    "im.save('L1.jpg')"
   ]
  },
  {
   "cell_type": "code",
   "execution_count": null,
   "metadata": {},
   "outputs": [],
   "source": []
  }
 ],
 "metadata": {
  "kernelspec": {
   "display_name": "Python 3",
   "language": "python",
   "name": "python3"
  },
  "language_info": {
   "codemirror_mode": {
    "name": "ipython",
    "version": 3
   },
   "file_extension": ".py",
   "mimetype": "text/x-python",
   "name": "python",
   "nbconvert_exporter": "python",
   "pygments_lexer": "ipython3",
   "version": "3.6.4"
  }
 },
 "nbformat": 4,
 "nbformat_minor": 2
}
